{
 "cells": [
  {
   "cell_type": "code",
   "execution_count": 10,
   "id": "1429e01c",
   "metadata": {},
   "outputs": [],
   "source": [
    "import selenium\n",
    "from selenium import webdriver\n",
    "import time\n",
    "from selenium.webdriver.common.by import By\n",
    "from selenium.common.exceptions import StaleElementReferenceException,NoSuchElementException\n",
    "import pandas as pd\n",
    "import requests\n",
    "from bs4 import BeautifulSoup\n",
    "import re"
   ]
  },
  {
   "cell_type": "code",
   "execution_count": 8,
   "id": "698adb07",
   "metadata": {},
   "outputs": [
    {
     "name": "stderr",
     "output_type": "stream",
     "text": [
      "C:\\Users\\hp\\AppData\\Local\\Temp\\ipykernel_16092\\509420918.py:1: DeprecationWarning: executable_path has been deprecated, please pass in a Service object\n",
      "  driver=webdriver.Chrome(r\"C:\\Users\\hp\\Downloads\\chromedriver_win32\\chromedriver.exe\")\n"
     ]
    }
   ],
   "source": [
    "driver=webdriver.Chrome(r\"C:\\Users\\hp\\Downloads\\chromedriver_win32\\chromedriver.exe\")"
   ]
  },
  {
   "cell_type": "code",
   "execution_count": 9,
   "id": "e6150a70",
   "metadata": {},
   "outputs": [],
   "source": [
    "driver.get(\"http://www.amazon.in/\")"
   ]
  },
  {
   "cell_type": "code",
   "execution_count": 10,
   "id": "2e2c730e",
   "metadata": {},
   "outputs": [],
   "source": [
    "item=driver.find_element(By.XPATH,\"/html/body/div[1]/header/div/div[1]/div[2]/div/form/div[2]/div[1]/input\")\n",
    "item.send_keys('guitar')"
   ]
  },
  {
   "cell_type": "code",
   "execution_count": 11,
   "id": "0df9d525",
   "metadata": {},
   "outputs": [],
   "source": [
    "search=driver.find_element(By.XPATH,\"/html/body/div[1]/header/div/div[1]/div[2]/div/form/div[3]/div/span/input\")\n",
    "search.click()"
   ]
  },
  {
   "cell_type": "code",
   "execution_count": null,
   "id": "7f573c0f",
   "metadata": {},
   "outputs": [],
   "source": [
    "from selenium.webdriver.support.ui import WebDriverWait\n",
    "from selenium.webdriver.support import expected_conditions as EC "
   ]
  },
  {
   "cell_type": "code",
   "execution_count": 12,
   "id": "569fc206",
   "metadata": {},
   "outputs": [],
   "source": [
    "brand =[], \n",
    "product = []\n",
    "price = []\n",
    "exchange = []\n",
    "delivery = []\n",
    "availability = [] \n",
    "url = []"
   ]
  },
  {
   "cell_type": "code",
   "execution_count": null,
   "id": "a24a17ca",
   "metadata": {},
   "outputs": [],
   "source": [
    "start = 0\n",
    "end = 3\n",
    "for page in range(start,end):\n",
    "    try:\n",
    "        brands=driver.find_elements(By.XPATH,'//span[@class=\"a-size-base-plus a-color-base a-text-normal\"]')\n",
    "        brand.append(brands)\n",
    "    except NoSuchElementException:\n",
    "        brand.append(\" \")\n",
    "    \n",
    "    product_tags=driver.find_elements(BY.XPATH,'//span[@class=\"a-size-base-plus a-color-base a-text-normal\"]')\n",
    "    product.append(product_tags)\n",
    "    \n",
    "    price_tags=driver.find_elements(BY.XPATH,'//span[@class=\"a-price-whole\"]')\n",
    "    price.append(price_tags)\n",
    "    \n",
    "    try:\n",
    "        exchange_tags=driver.find_elements(BY.XPATH,'/html/body/div[1]/div[2]/div[1]/div[1]/div/span[1]/div[1]/div[3]/div/div/div/div/div/div/div[3]/div[3]/div[1]/span[2]')\n",
    "        exchange.append(exchange_tags)\n",
    "    except NoSuchElementException:\n",
    "        exchange.append(\" \")\n",
    "        \n",
    "    try:\n",
    "        delivery_tags=driver.find_elements(BY.XPATH,'//span[@class=\"a-color-base a-text-bold\"]')\n",
    "        delivery.append(delivery_tags)\n",
    "    except NoSuchElementException:\n",
    "        delivery.append(\" \")\n",
    "    \n",
    "    try:\n",
    "        availability_tags=driver.find_elements(BY.XPATH,'//span[@class=\"a-color-base\"]')\n",
    "        availability.append(availability_tags)\n",
    "    except NoSuchElementException:\n",
    "        availability.append(\" \")"
   ]
  },
  {
   "cell_type": "code",
   "execution_count": null,
   "id": "ff3645d6",
   "metadata": {},
   "outputs": [],
   "source": []
  },
  {
   "cell_type": "code",
   "execution_count": null,
   "id": "5727812c",
   "metadata": {},
   "outputs": [],
   "source": [
    "start=0\n",
    "end=3\n",
    "\n",
    "for page in range(start,end):\n",
    "    url_tags=driver.find_elements(BY.XPATH,'//a[@class=\"a-link-normal s-underline-text s-underline-link-text s-link-style a-text-normal\"]')\n",
    "    for i in url:\n",
    "        url.append(i.get_attribute('href'))\n",
    "    next_button=driver.fine_elements(BY.XPATH,\"/html/body/div[1]/div[2]/div[1]/div[1]/div/span[1]/div[1]/div[69]/div/div/span/a[3]\")\n",
    "        "
   ]
  },
  {
   "cell_type": "code",
   "execution_count": null,
   "id": "de0b6f10",
   "metadata": {},
   "outputs": [],
   "source": [
    "Answer_3"
   ]
  },
  {
   "cell_type": "code",
   "execution_count": 21,
   "id": "ab6c6fbb",
   "metadata": {},
   "outputs": [
    {
     "name": "stderr",
     "output_type": "stream",
     "text": [
      "C:\\Users\\hp\\AppData\\Local\\Temp\\ipykernel_16092\\509420918.py:1: DeprecationWarning: executable_path has been deprecated, please pass in a Service object\n",
      "  driver=webdriver.Chrome(r\"C:\\Users\\hp\\Downloads\\chromedriver_win32\\chromedriver.exe\")\n"
     ]
    }
   ],
   "source": [
    "driver=webdriver.Chrome(r\"C:\\Users\\hp\\Downloads\\chromedriver_win32\\chromedriver.exe\")"
   ]
  },
  {
   "cell_type": "code",
   "execution_count": 24,
   "id": "af8e09bc",
   "metadata": {},
   "outputs": [],
   "source": [
    "driver.get(\"http://images.google.com\")"
   ]
  },
  {
   "cell_type": "code",
   "execution_count": 27,
   "id": "f512f598",
   "metadata": {},
   "outputs": [],
   "source": [
    "item1=driver.find_element(By.XPATH,'/html/body/div[1]/div[3]/form/div[1]/div[1]/div[1]/div/div[2]/input')\n",
    "item1.send_keys('fruits')"
   ]
  },
  {
   "cell_type": "code",
   "execution_count": 29,
   "id": "0f57a3e7",
   "metadata": {},
   "outputs": [],
   "source": [
    "search=driver.find_element(By.XPATH,'//span[@class=\"z1asCe MZy1Rb\"]')\n",
    "search.click()"
   ]
  },
  {
   "cell_type": "code",
   "execution_count": 30,
   "id": "61da09bc",
   "metadata": {},
   "outputs": [],
   "source": [
    "fruits=[]"
   ]
  },
  {
   "cell_type": "code",
   "execution_count": null,
   "id": "78fbe956",
   "metadata": {},
   "outputs": [],
   "source": [
    "for i in price_tags[0:10]:\n",
    "    PR=i.text\n",
    "    price.append(PR)"
   ]
  },
  {
   "cell_type": "code",
   "execution_count": 33,
   "id": "a5618d0b",
   "metadata": {},
   "outputs": [
    {
     "ename": "SyntaxError",
     "evalue": "invalid syntax (3471591841.py, line 2)",
     "output_type": "error",
     "traceback": [
      "\u001b[1;36m  Input \u001b[1;32mIn [33]\u001b[1;36m\u001b[0m\n\u001b[1;33m    for in fruit[0:10]:\u001b[0m\n\u001b[1;37m        ^\u001b[0m\n\u001b[1;31mSyntaxError\u001b[0m\u001b[1;31m:\u001b[0m invalid syntax\n"
     ]
    }
   ],
   "source": [
    "fruit=driver.find_elements(By.XPATH,'//div[@class=\" bRMDJf islir\"]')\n",
    "for in fruit[0:10]:\n",
    "    fruit.append(i.get('data-scr'))"
   ]
  },
  {
   "cell_type": "code",
   "execution_count": 34,
   "id": "797dd1ab",
   "metadata": {},
   "outputs": [
    {
     "data": {
      "text/plain": [
       "<Response [200]>"
      ]
     },
     "execution_count": 34,
     "metadata": {},
     "output_type": "execute_result"
    }
   ],
   "source": [
    "page=requests.get('http://images.google.com')\n",
    "page"
   ]
  },
  {
   "cell_type": "code",
   "execution_count": 35,
   "id": "2728d221",
   "metadata": {},
   "outputs": [
    {
     "data": {
      "text/plain": [
       "<!DOCTYPE html>\n",
       "<html itemscope=\"\" itemtype=\"http://schema.org/WebPage\" lang=\"en-IN\"><head><meta content=\"Google Images. The most comprehensive image search on the web.\" name=\"description\"/><meta content=\"text/html; charset=utf-8\" http-equiv=\"Content-Type\"/><meta content=\"/images/branding/googleg/1x/googleg_standard_color_128dp.png\" itemprop=\"image\"/><title>Google Images</title><script nonce=\"6ohr3iG8KinbyhmpjLq8BQ\">(function(){window.google={kEI:'zJXSY7e5HYvmwQPWr4OgBg',kEXPI:'0,1359409,1710,4348,207,2415,2389,2316,383,246,5,1129120,1197754,638,380099,16114,28684,22430,1362,12311,4754,12834,4998,13228,3847,10622,22741,5081,1593,1279,2742,149,1103,840,6297,108,3406,606,2023,2297,14670,3227,2846,6,29074,4696,1851,2614,13142,3,576,1014,1,5444,151,11321,2652,4,1528,2304,7039,22023,13065,13658,4437,9358,7428,5812,2545,4097,4049,3,3541,2,14260,24781,2,3116,2,14016,2715,23024,5679,1021,31122,4568,6255,23421,1252,5835,14968,4332,8,7476,445,2,2,1,6960,19672,8155,7381,2,1399,78,14491,872,19634,8,1921,5784,3995,21390,389,9543,4832,26504,20136,14,82,4641,8691,6715,159,1622,1749,29,3852,1125,3787,2124,3079,700,5201,721,461,560,2355,3255,564,2,566,988,782,1753,495,426,1034,42,2960,724,143,12,770,1410,20,3,867,236,2024,425,55,3289,1376,947,857,1030,734,1908,8,682,9,512,1035,607,258,757,7,187,1481,1068,184,5,1648,89,20,67,292,103,219,84,238,22,103,446,182,104,120,34,1610,117,841,574,3343,7,2,336,1123,380,297,12,108,1252,117,949,2,3,17,2,3,219,1277,453,1999,1742,1480,212,2,375,114,63,1214,193,313,983,737,521,633,1425,250,1,275,5,693,1074,85,597,723,287,95,591,86,272,202,57,1092,1043,788,53,713,115,8,316,808,19,1010,812,220,29,266,5256396,5565,364,101,182,61,6,43,5995490,2803310,3311,141,795,19736,1,346,3924,27,2,23647342,299189,4042143,1964,16673,3405,9440,7401,1353,1402960,75160',kBL:'PSCp'};google.sn='imghp';google.kHL='en-IN';})();(function(){\n",
       "var f=this||self;var h,k=[];function l(a){for(var b;a&&(!a.getAttribute||!(b=a.getAttribute(\"eid\")));)a=a.parentNode;return b||h}function m(a){for(var b=null;a&&(!a.getAttribute||!(b=a.getAttribute(\"leid\")));)a=a.parentNode;return b}\n",
       "function n(a,b,c,d,g){var e=\"\";c||-1!==b.search(\"&ei=\")||(e=\"&ei=\"+l(d),-1===b.search(\"&lei=\")&&(d=m(d))&&(e+=\"&lei=\"+d));d=\"\";!c&&f._cshid&&-1===b.search(\"&cshid=\")&&\"slh\"!==a&&(d=\"&cshid=\"+f._cshid);c=c||\"/\"+(g||\"gen_204\")+\"?atyp=i&ct=\"+a+\"&cad=\"+b+e+\"&zx=\"+Date.now()+d;/^http:/i.test(c)&&\"https:\"===window.location.protocol&&(google.ml&&google.ml(Error(\"a\"),!1,{src:c,glmm:1}),c=\"\");return c};h=google.kEI;google.getEI=l;google.getLEI=m;google.ml=function(){return null};google.log=function(a,b,c,d,g){if(c=n(a,b,c,d,g)){a=new Image;var e=k.length;k[e]=a;a.onerror=a.onload=a.onabort=function(){delete k[e]};a.src=c}};google.logUrl=n;}).call(this);(function(){google.y={};google.sy=[];google.x=function(a,b){if(a)var c=a.id;else{do c=Math.random();while(google.y[c])}google.y[c]=[a,b];return!1};google.sx=function(a){google.sy.push(a)};google.lm=[];google.plm=function(a){google.lm.push.apply(google.lm,a)};google.lq=[];google.load=function(a,b,c){google.lq.push([[a],b,c])};google.loadAll=function(a,b){google.lq.push([a,b])};google.bx=!1;google.lx=function(){};}).call(this);google.f={};(function(){\n",
       "document.documentElement.addEventListener(\"submit\",function(b){var a;if(a=b.target){var c=a.getAttribute(\"data-submitfalse\");a=\"1\"===c||\"q\"===c&&!a.elements.q.value?!0:!1}else a=!1;a&&(b.preventDefault(),b.stopPropagation())},!0);document.documentElement.addEventListener(\"click\",function(b){var a;a:{for(a=b.target;a&&a!==document.documentElement;a=a.parentElement)if(\"A\"===a.tagName){a=\"1\"===a.getAttribute(\"data-nohref\");break a}a=!1}a&&b.preventDefault()},!0);}).call(this);</script><style>#gbar,#guser{font-size:13px;padding-top:1px !important;}#gbar{height:22px}#guser{padding-bottom:7px !important;text-align:right}.gbh,.gbd{border-top:1px solid #c9d7f1;font-size:1px}.gbh{height:0;position:absolute;top:24px;width:100%}@media all{.gb1{height:22px;margin-right:.5em;vertical-align:top}#gbar{float:left}}a.gb1,a.gb4{text-decoration:underline !important}a.gb1,a.gb4{color:#00c !important}.gbi .gb4{color:#dd8e27 !important}.gbf .gb4{color:#900 !important}\n",
       "</style><style>body,td,a,p,.h{font-family:arial,sans-serif}body{margin:0;overflow-y:scroll}#gog{padding:3px 8px 0}td{line-height:.8em}.gac_m td{line-height:17px}form{margin-bottom:20px}.h{color:#1558d6}em{font-weight:bold;font-style:normal}.lst{height:25px;width:496px}.gsfi,.lst{font:18px arial,sans-serif}.gsfs{font:17px arial,sans-serif}.ds{display:inline-box;display:inline-block;margin:3px 0 4px;margin-left:4px}input{font-family:inherit}body{background:#fff;color:#000}a{color:#4b11a8;text-decoration:none}a:hover,a:active{text-decoration:underline}.fl a{color:#1558d6}a:visited{color:#4b11a8}.sblc{padding-top:5px}.sblc a{display:block;margin:2px 0;margin-left:13px;font-size:11px}.lsbb{background:#f8f9fa;border:solid 1px;border-color:#dadce0 #70757a #70757a #dadce0;height:30px}.lsbb{display:block}#WqQANb a{display:inline-block;margin:0 12px}.lsb{background:url(/images/nav_logo229.png) 0 -261px repeat-x;border:none;color:#000;cursor:pointer;height:30px;margin:0;outline:0;font:15px arial,sans-serif;vertical-align:top}.lsb:active{background:#dadce0}.lst:focus{outline:none}.prms{color:#c5221f;font-size:13px}.sshppd{font-size:13px;margin:32px 0 26px}.sshpplo span{color:#c5221f}.sshpplt{margin:15px 0 30px}</style><script nonce=\"6ohr3iG8KinbyhmpjLq8BQ\">(function(){window.google.erd={jsr:1,bv:1729,de:true};\n",
       "var h=this||self;var k,l=null!=(k=h.mei)?k:1,n,p=null!=(n=h.sdo)?n:!0,q=0,r,t=google.erd,v=t.jsr;google.ml=function(a,b,d,m,e){e=void 0===e?2:e;b&&(r=a&&a.message);if(google.dl)return google.dl(a,e,d),null;if(0>v){window.console&&console.error(a,d);if(-2===v)throw a;b=!1}else b=!a||!a.message||\"Error loading script\"===a.message||q>=l&&!m?!1:!0;if(!b)return null;q++;d=d||{};b=encodeURIComponent;var c=\"/gen_204?atyp=i&ei=\"+b(google.kEI);google.kEXPI&&(c+=\"&jexpid=\"+b(google.kEXPI));c+=\"&srcpg=\"+b(google.sn)+\"&jsr=\"+b(t.jsr)+\"&bver=\"+b(t.bv);var f=a.lineNumber;void 0!==f&&(c+=\"&line=\"+f);var g=\n",
       "a.fileName;g&&(0<g.indexOf(\"-extension:/\")&&(e=3),c+=\"&script=\"+b(g),f&&g===window.location.href&&(f=document.documentElement.outerHTML.split(\"\\n\")[f],c+=\"&cad=\"+b(f?f.substring(0,300):\"No script found.\")));c+=\"&jsel=\"+e;for(var u in d)c+=\"&\",c+=b(u),c+=\"=\",c+=b(d[u]);c=c+\"&emsg=\"+b(a.name+\": \"+a.message);c=c+\"&jsst=\"+b(a.stack||\"N/A\");12288<=c.length&&(c=c.substr(0,12288));a=c;m||google.log(0,\"\",a);return a};window.onerror=function(a,b,d,m,e){r!==a&&(a=e instanceof Error?e:Error(a),void 0===d||\"lineNumber\"in a||(a.lineNumber=d),void 0===b||\"fileName\"in a||(a.fileName=b),google.ml(a,!1,void 0,!1,\"SyntaxError\"===a.name||\"SyntaxError\"===a.message.substring(0,11)||-1!==a.message.indexOf(\"Script error\")?3:0));r=null;p&&q>=l&&(window.onerror=null)};})();</script></head><body bgcolor=\"#fff\"><script nonce=\"6ohr3iG8KinbyhmpjLq8BQ\">(function(){var src='/images/nav_logo229.png';var iesg=false;document.body.onload = function(){window.n && window.n();if (document.images){new Image().src=src;}\n",
       "if (!iesg){document.f&&document.f.q.focus();document.gbqf&&document.gbqf.q.focus();}\n",
       "}\n",
       "})();</script><div id=\"mngb\"><div id=\"gbar\"><nobr><a class=\"gb1\" href=\"https://www.google.co.in/webhp?tab=iw\">Search</a> <b class=\"gb1\">Images</b> <a class=\"gb1\" href=\"http://maps.google.co.in/maps?hl=en&amp;tab=il\">Maps</a> <a class=\"gb1\" href=\"https://play.google.com/?hl=en&amp;tab=i8\">Play</a> <a class=\"gb1\" href=\"https://www.youtube.com/?tab=i1\">YouTube</a> <a class=\"gb1\" href=\"https://news.google.com/?tab=in\">News</a> <a class=\"gb1\" href=\"https://mail.google.com/mail/?tab=im\">Gmail</a> <a class=\"gb1\" href=\"https://drive.google.com/?tab=io\">Drive</a> <a class=\"gb1\" href=\"https://www.google.co.in/intl/en/about/products?tab=ih\" style=\"text-decoration:none\"><u>More</u> »</a></nobr></div><div id=\"guser\" width=\"100%\"><nobr><span class=\"gbi\" id=\"gbn\"></span><span class=\"gbf\" id=\"gbf\"></span><span id=\"gbe\"></span><a class=\"gb4\" href=\"http://www.google.co.in/history/optout?hl=en\">Web History</a> | <a class=\"gb4\" href=\"/preferences?hl=en\">Settings</a> | <a class=\"gb4\" href=\"https://accounts.google.com/ServiceLogin?hl=en&amp;passive=true&amp;continue=http://images.google.com/&amp;ec=GAZAAg\" id=\"gb_70\" target=\"_top\">Sign in</a></nobr></div><div class=\"gbh\" style=\"left:0\"></div><div class=\"gbh\" style=\"right:0\"></div></div><center><br clear=\"all\" id=\"lgpd\"/><div id=\"lga\"><div style=\"padding:28px 0 3px\"><div align=\"left\" id=\"hplogo\" style=\"height:110px;width:276px;background:url(/intl/en_ALL/images/branding/googlelogo/1x/googlelogo_white_background_color_272x92dp.png) no-repeat\" title=\"Google Images\"><div nowrap=\"\" style=\"font-size:16px;font-weight:bold;position:relative;top:70px;color:#1a73e8;right:115px;float:right\"><span>images</span></div></div></div><br/></div><form action=\"/search\" name=\"f\"><table cellpadding=\"0\" cellspacing=\"0\"><tr valign=\"top\"><td width=\"25%\"> </td><td align=\"center\" nowrap=\"\"><input name=\"tbm\" type=\"hidden\" value=\"isch\"/><input name=\"ie\" type=\"hidden\" value=\"ISO-8859-1\"/><input name=\"hl\" type=\"hidden\" value=\"en-IN\"/><input name=\"source\" type=\"hidden\" value=\"hp\"/><input name=\"biw\" type=\"hidden\"/><input name=\"bih\" type=\"hidden\"/><div class=\"ds\" style=\"height:32px;margin:4px 0\"><input autocomplete=\"off\" class=\"lst\" maxlength=\"2048\" name=\"q\" size=\"57\" style=\"margin:0;padding:5px 8px 0 6px;vertical-align:top;color:#000\" title=\"Search Images\" value=\"\"/></div> <span class=\"ds\"><span class=\"lsbb\"><input class=\"lsb\" name=\"btnG\" type=\"submit\" value=\"Search Images\"/></span></span></td><td align=\"left\" class=\"fl sblc\" nowrap=\"\" valign=\"middle\" width=\"25%\"><a href=\"/advanced_image_search?hl=en-IN&amp;authuser=0\">Advanced Image Search</a></td></tr></table><input id=\"gbv\" name=\"gbv\" type=\"hidden\" value=\"1\"/><script nonce=\"6ohr3iG8KinbyhmpjLq8BQ\">(function(){var a,b=\"1\";if(document&&document.getElementById)if(\"undefined\"!=typeof XMLHttpRequest)b=\"2\";else if(\"undefined\"!=typeof ActiveXObject){var c,d,e=[\"MSXML2.XMLHTTP.6.0\",\"MSXML2.XMLHTTP.3.0\",\"MSXML2.XMLHTTP\",\"Microsoft.XMLHTTP\"];for(c=0;d=e[c++];)try{new ActiveXObject(d),b=\"2\"}catch(h){}}a=b;if(\"2\"==a&&-1==location.search.indexOf(\"&gbv=2\")){var f=google.gbvu,g=document.getElementById(\"gbv\");g&&(g.value=a);f&&window.setTimeout(function(){location.href=f},0)};}).call(this);</script></form><div id=\"gac_scont\"></div><div style=\"font-size:83%;min-height:3.5em\"><br/></div><span id=\"footer\"><div style=\"font-size:10pt\"><div id=\"WqQANb\" style=\"margin:19px auto;text-align:center\"><a href=\"/intl/en/ads/\">Advertising Programs</a><a href=\"http://www.google.co.in/services/\">Business Solutions</a><a href=\"/intl/en/about.html\">About Google</a></div></div><p style=\"font-size:8pt;color:#70757a\">© 2023 - <a href=\"/intl/en/policies/privacy/\">Privacy</a> - <a href=\"/intl/en/policies/terms/\">Terms</a></p></span></center><script nonce=\"6ohr3iG8KinbyhmpjLq8BQ\">(function(){window.google.cdo={height:757,width:1440};(function(){var a=window.innerWidth,b=window.innerHeight;if(!a||!b){var c=window.document,d=\"CSS1Compat\"==c.compatMode?c.documentElement:c.body;a=d.clientWidth;b=d.clientHeight}a&&b&&(a!=google.cdo.width||b!=google.cdo.height)&&google.log(\"\",\"\",\"/client_204?&atyp=i&biw=\"+a+\"&bih=\"+b+\"&ei=\"+google.kEI);}).call(this);})();</script> <script nonce=\"6ohr3iG8KinbyhmpjLq8BQ\">(function(){google.xjs={ck:'xjs.hp.L0TU2uVtv08.L.X.O',cs:'ACT90oHfWkA5os9VqU2IsUnQ4jMZyTAC0w',excm:[]};})();</script> <script nonce=\"6ohr3iG8KinbyhmpjLq8BQ\">(function(){var u='/xjs/_/js/k\\x3dxjs.hp.en.cORd4QxWMlo.O/am\\x3dAADoBABQAGAB/d\\x3d1/ed\\x3d1/rs\\x3dACT90oHeOZNdzEpi891X373wwHHcgmPZNA/m\\x3dsb_he,d';var amd=0;\n",
       "var d=this||self,e=function(a){return a};var g;var l=function(a,b){this.g=b===h?a:\"\"};l.prototype.toString=function(){return this.g+\"\"};var h={};\n",
       "function m(){var a=u;google.lx=function(){p(a);google.lx=function(){}};google.bx||google.lx()}\n",
       "function p(a){google.timers&&google.timers.load&&google.tick&&google.tick(\"load\",\"xjsls\");var b=document;var c=\"SCRIPT\";\"application/xhtml+xml\"===b.contentType&&(c=c.toLowerCase());c=b.createElement(c);a=null===a?\"null\":void 0===a?\"undefined\":a;if(void 0===g){b=null;var k=d.trustedTypes;if(k&&k.createPolicy){try{b=k.createPolicy(\"goog#html\",{createHTML:e,createScript:e,createScriptURL:e})}catch(q){d.console&&d.console.error(q.message)}g=b}else g=b}a=(b=g)?b.createScriptURL(a):a;a=new l(a,h);c.src=\n",
       "a instanceof l&&a.constructor===l?a.g:\"type_error:TrustedResourceUrl\";var f,n;(f=(a=null==(n=(f=(c.ownerDocument&&c.ownerDocument.defaultView||window).document).querySelector)?void 0:n.call(f,\"script[nonce]\"))?a.nonce||a.getAttribute(\"nonce\")||\"\":\"\")&&c.setAttribute(\"nonce\",f);document.body.appendChild(c);google.psa=!0};google.xjsu=u;setTimeout(function(){0<amd?google.caft(function(){return m()},amd):m()},0);})();function _DumpException(e){throw e;}\n",
       "function _F_installCss(c){}\n",
       "(function(){google.jl={blt:'none',chnk:0,dw:false,dwu:true,emtn:0,end:0,ico:false,ikb:0,ine:false,injs:'none',injt:0,injth:0,injv2:false,lls:'default',pdt:0,rep:0,snet:true,strt:0,ubm:false,uwp:true};})();(function(){var pmc='{\\x22d\\x22:{},\\x22sb_he\\x22:{\\x22agen\\x22:true,\\x22cgen\\x22:true,\\x22client\\x22:\\x22img\\x22,\\x22dh\\x22:true,\\x22ds\\x22:\\x22i\\x22,\\x22host\\x22:\\x22google.com\\x22,\\x22jsonp\\x22:true,\\x22msgs\\x22:{\\x22cibl\\x22:\\x22Clear Search\\x22,\\x22dym\\x22:\\x22Did you mean:\\x22,\\x22lcky\\x22:\\x22I\\\\u0026#39;m Feeling Lucky\\x22,\\x22lml\\x22:\\x22Learn more\\x22,\\x22psrc\\x22:\\x22This search was removed from your \\\\u003Ca href\\x3d\\\\\\x22/history\\\\\\x22\\\\u003EWeb History\\\\u003C/a\\\\u003E\\x22,\\x22psrl\\x22:\\x22Remove\\x22,\\x22sbit\\x22:\\x22Search by image\\x22,\\x22srch\\x22:\\x22Google Search\\x22},\\x22ovr\\x22:{},\\x22pq\\x22:\\x22\\x22,\\x22sbas\\x22:\\x220 3px 8px 0 rgba(0,0,0,0.2),0 0 0 1px rgba(0,0,0,0.08)\\x22,\\x22stok\\x22:\\x22RKdXdmFBTweYahNhyhEA-fADXzE\\x22}}';google.pmc=JSON.parse(pmc);})();</script> </body></html>"
      ]
     },
     "execution_count": 35,
     "metadata": {},
     "output_type": "execute_result"
    }
   ],
   "source": [
    "soup=BeautifulSoup(page.content)\n",
    "soup"
   ]
  },
  {
   "cell_type": "code",
   "execution_count": 43,
   "id": "893355d6",
   "metadata": {},
   "outputs": [
    {
     "data": {
      "text/plain": [
       "[]"
      ]
     },
     "execution_count": 43,
     "metadata": {},
     "output_type": "execute_result"
    }
   ],
   "source": [
    "fruits=[]\n",
    "for i in soup.find_all(\"img\", class_=\"rg_i Q4LuWd\"):\n",
    "    fruits.append(i.get('img src'))\n",
    "    \n",
    "fruits"
   ]
  },
  {
   "cell_type": "code",
   "execution_count": null,
   "id": "b443d31b",
   "metadata": {},
   "outputs": [],
   "source": [
    "Answer_4"
   ]
  },
  {
   "cell_type": "code",
   "execution_count": 4,
   "id": "69ce926f",
   "metadata": {},
   "outputs": [
    {
     "name": "stderr",
     "output_type": "stream",
     "text": [
      "C:\\Users\\hp\\AppData\\Local\\Temp\\ipykernel_5508\\509420918.py:1: DeprecationWarning: executable_path has been deprecated, please pass in a Service object\n",
      "  driver=webdriver.Chrome(r\"C:\\Users\\hp\\Downloads\\chromedriver_win32\\chromedriver.exe\")\n"
     ]
    }
   ],
   "source": [
    "driver=webdriver.Chrome(r\"C:\\Users\\hp\\Downloads\\chromedriver_win32\\chromedriver.exe\")"
   ]
  },
  {
   "cell_type": "code",
   "execution_count": 5,
   "id": "0ad841a9",
   "metadata": {},
   "outputs": [],
   "source": [
    "driver.get(\"http://www.flipkart.com\")"
   ]
  },
  {
   "cell_type": "code",
   "execution_count": 6,
   "id": "61fa8224",
   "metadata": {},
   "outputs": [],
   "source": [
    "cross=driver.find_element(By.XPATH,'/html/body/div[2]/div/div/button')\n",
    "cross.click()"
   ]
  },
  {
   "cell_type": "code",
   "execution_count": 7,
   "id": "014094a5",
   "metadata": {},
   "outputs": [],
   "source": [
    "product=driver.find_element(By.XPATH,'/html/body/div[1]/div/div[1]/div[1]/div[2]/div[2]/form/div/div/input')\n",
    "product.send_keys('pixel 4A')"
   ]
  },
  {
   "cell_type": "code",
   "execution_count": 9,
   "id": "1af7892e",
   "metadata": {},
   "outputs": [],
   "source": [
    "search=driver.find_element(By.CLASS_NAME,\"L0Z3Pu\")\n",
    "search.click()"
   ]
  },
  {
   "cell_type": "code",
   "execution_count": 10,
   "id": "b5d4b3b9",
   "metadata": {},
   "outputs": [],
   "source": [
    "Brand=[] \n",
    "Phone=[]\n",
    "Colour=[] \n",
    "RAM=[] \n",
    "Storage=[] \n",
    "P_Camera=[] \n",
    "S_Camera=[] \n",
    "Display=[] \n",
    "Battery=[] \n",
    "Price=[] "
   ]
  },
  {
   "cell_type": "code",
   "execution_count": null,
   "id": "5e5f3136",
   "metadata": {},
   "outputs": [],
   "source": [
    "brand_tags=driver.find_elements(By.XPATH,'//div[@class=\"_4rR01T\"]')\n",
    "for i in brand_tags[0:20]:\n",
    "    brand=i.text\n",
    "    Brand.append(brand_tags)"
   ]
  },
  {
   "cell_type": "code",
   "execution_count": 17,
   "id": "71738650",
   "metadata": {},
   "outputs": [
    {
     "name": "stdout",
     "output_type": "stream",
     "text": [
      "0\n"
     ]
    }
   ],
   "source": [
    "print(len(Brand))"
   ]
  },
  {
   "cell_type": "code",
   "execution_count": null,
   "id": "b7e24bec",
   "metadata": {},
   "outputs": [],
   "source": []
  },
  {
   "cell_type": "code",
   "execution_count": null,
   "id": "8f751f40",
   "metadata": {},
   "outputs": [],
   "source": [
    "try:\n",
    "    phone=driver.find_elements(By.XPATH,'//div[@class=\"fMghEO\"]')\n",
    "    phone=i.text\n",
    "    Phone.append(phone)                          \n",
    "except NoSuchElementException:                             \n",
    "    Phone.append(\" - \")                          \n",
    "\n",
    "try:\n",
    "    color=driver.find_elements(By.XPATH,'')\n",
    "    color=i.text\n",
    "    Colour.append(color)\n",
    "except NoSuchElementException:\n",
    "    Brand.append(\" - \")\n",
    "    \n",
    "try:\n",
    "    ram=driver.find_elements(By.XPATH,'')\n",
    "    RAM.append(ram)\n",
    "except NoSuchElementException:\n",
    "    RAM.append(\" - \")\n",
    "                               \n",
    "try:\n",
    "    storage=driver.find_elements(By.XPATH,'')\n",
    "    Storage.append(storage)\n",
    "except NoSuchElementException:\n",
    "    Storage.append(\" - \")\n",
    "                               \n",
    "try:\n",
    "    pcamera=driver.find_elements(By.XPATH,'')\n",
    "    P_Camera.append(pcamera)\n",
    "except NoSuchElementException:\n",
    "    P_Camera.append(\" - \")\n",
    "                               \n",
    "try:                              \n",
    "    scamera=driver.find_elements(By.XPATH,'')\n",
    "    S_Camera.append(scamera)\n",
    "except NoSuchElementException:\n",
    "    S_Camera.append(\" - \")\n",
    "                               \n",
    "try:\n",
    "    display=driver.find_elements(By.XPATH,'')\n",
    "    Display.append(display)                         \n",
    "except NoSuchElementException:\n",
    "    Display.append(\" - \")\n",
    "                               \n",
    "try:   \n",
    "    battery=driver.find_elements(By.XPATH,'')\n",
    "    Battery.append(battery)\n",
    "except NoSuchElementException:                              \n",
    "    Battery.append( \" - \")\n",
    "                               \n",
    "try:                              \n",
    "    rate=driver.find_elements(By.XPATH,'')\n",
    "    Price.append(rate)\n",
    "except NoSuchElementException:\n",
    "    Price.append"
   ]
  },
  {
   "cell_type": "code",
   "execution_count": null,
   "id": "e894b7fe",
   "metadata": {},
   "outputs": [],
   "source": [
    "Answer_10"
   ]
  },
  {
   "cell_type": "code",
   "execution_count": 11,
   "id": "0d23a14c",
   "metadata": {},
   "outputs": [
    {
     "name": "stderr",
     "output_type": "stream",
     "text": [
      "C:\\Users\\hp\\AppData\\Local\\Temp\\ipykernel_17960\\509420918.py:1: DeprecationWarning: executable_path has been deprecated, please pass in a Service object\n",
      "  driver=webdriver.Chrome(r\"C:\\Users\\hp\\Downloads\\chromedriver_win32\\chromedriver.exe\")\n"
     ]
    }
   ],
   "source": [
    "driver=webdriver.Chrome(r\"C:\\Users\\hp\\Downloads\\chromedriver_win32\\chromedriver.exe\")"
   ]
  },
  {
   "cell_type": "code",
   "execution_count": 12,
   "id": "34b4560a",
   "metadata": {},
   "outputs": [],
   "source": [
    "driver.get(\"https://www.hostelworld.com/\")"
   ]
  },
  {
   "cell_type": "code",
   "execution_count": 15,
   "id": "74ae40f9",
   "metadata": {},
   "outputs": [],
   "source": [
    "location=driver.find_element(By.XPATH,'/html/body/div[3]/div/div/div[2]/div[2]/div/div/div[4]/div/div[2]/div/div[1]/div/div/div/input')\n",
    "location.send_keys('London')"
   ]
  },
  {
   "cell_type": "code",
   "execution_count": 16,
   "id": "c540b406",
   "metadata": {},
   "outputs": [],
   "source": [
    "city=driver.find_element(By.XPATH,'/html/body/div[3]/div/div/div[2]/div[2]/div/div/div[4]/div/div[2]/div/div[1]/div/div/ul/li[2]')\n",
    "city.click()"
   ]
  },
  {
   "cell_type": "code",
   "execution_count": 17,
   "id": "781ca803",
   "metadata": {},
   "outputs": [],
   "source": [
    "search=driver.find_element(By.XPATH,'/html/body/div[3]/div/div/div[2]/div[2]/div/div/div[4]/div/div[2]/div/div[5]/button')\n",
    "search.click()"
   ]
  },
  {
   "cell_type": "code",
   "execution_count": 19,
   "id": "2b2201d4",
   "metadata": {},
   "outputs": [],
   "source": [
    "Name=[]\n",
    "Distance=[]\n",
    "Ratings=[]\n",
    "Total_reviews=[]\n",
    "All_reviews=[]\n",
    "Privates=[]\n",
    "Dorms=[] \n",
    "Facilities=[]\n",
    "Desc=[]"
   ]
  },
  {
   "cell_type": "code",
   "execution_count": 23,
   "id": "ec9a35e9",
   "metadata": {},
   "outputs": [],
   "source": [
    "name=driver.find_elements(By.XPATH,'//h2[@class=\"title title-6\"]')\n",
    "for i in name[0:30]:\n",
    "    name=i.text\n",
    "    Name.append(name)"
   ]
  },
  {
   "cell_type": "code",
   "execution_count": 25,
   "id": "4a36aec5",
   "metadata": {},
   "outputs": [],
   "source": [
    "distance=driver.find_elements(By.XPATH,'//span[@class=\"description\"]')\n",
    "for i in distance[0:30]:\n",
    "    distance=i.text\n",
    "    Distance.append(distance)"
   ]
  },
  {
   "cell_type": "code",
   "execution_count": 26,
   "id": "86eaaa1b",
   "metadata": {},
   "outputs": [],
   "source": [
    "ratings=driver.find_elements(By.XPATH,'//div[@class=\"score orange big\"]')\n",
    "for i in ratings:\n",
    "    ratings=i.text\n",
    "    Ratings.append(ratings)"
   ]
  },
  {
   "cell_type": "code",
   "execution_count": 29,
   "id": "dcf5863c",
   "metadata": {},
   "outputs": [],
   "source": [
    "total=driver.find_elements(By.XPATH,'//div[@class=\"reviews\"]')\n",
    "for i in total:\n",
    "    total=i.text\n",
    "    Total_reviews.append(total)"
   ]
  },
  {
   "cell_type": "code",
   "execution_count": 31,
   "id": "313a86b4",
   "metadata": {},
   "outputs": [],
   "source": [
    "try:\n",
    "    overall=driver.find_elements(By.XPATH,'//div[@class=\"cleanliness\"]')\n",
    "    for i in overall:\n",
    "        overall=i.text\n",
    "        All_reviews.append(overall)\n",
    "except NoSuchElementException:\n",
    "     All_reviews.append(\" - \")"
   ]
  },
  {
   "cell_type": "code",
   "execution_count": 50,
   "id": "bfb2ab10",
   "metadata": {},
   "outputs": [],
   "source": [
    "try:\n",
    "    privates=driver.find_elements(By.XPATH,'//div[@class=\"price title-5\"]')\n",
    "    for i in privates[0:30]:\n",
    "        privates=i.text\n",
    "        Privates.append(privates)\n",
    "except NoSuchElementException:\n",
    "    Privates.append(\" - \")"
   ]
  },
  {
   "cell_type": "code",
   "execution_count": 55,
   "id": "f27bd0fd",
   "metadata": {},
   "outputs": [],
   "source": [
    "try:\n",
    "    dorms=driver.find_elements(By.XPATH,'//div[@class=\"price title-5\"]')\n",
    "    for i in dorms[0:30]:\n",
    "        dorms=i.text\n",
    "        Dorms.append(dorms)\n",
    "except NoSuchElementException:\n",
    "    Dorms.append(\" - \")"
   ]
  },
  {
   "cell_type": "code",
   "execution_count": 32,
   "id": "379a1d62",
   "metadata": {},
   "outputs": [],
   "source": [
    "facilities=driver.find_elements(By.XPATH,'//div[@class=\"facilities-label facilities\"]')\n",
    "for i in facilities:\n",
    "    facilities=i.text\n",
    "    Facilities.append(facilities)"
   ]
  },
  {
   "cell_type": "code",
   "execution_count": 47,
   "id": "cb985e4e",
   "metadata": {},
   "outputs": [],
   "source": [
    "try:\n",
    "    desc=driver.find_elements(By.XPATH,'//span[@class=\"label\"]')\n",
    "    for i in desc[0:30]:\n",
    "        desc=i.text\n",
    "        Desc.append(desc)   \n",
    "except NoSuchElementException:\n",
    "    Desc.append(\" - \")"
   ]
  },
  {
   "cell_type": "code",
   "execution_count": 56,
   "id": "6cf0cb9a",
   "metadata": {},
   "outputs": [
    {
     "name": "stdout",
     "output_type": "stream",
     "text": [
      "30 30 29 30 28 34 32 30 31\n"
     ]
    }
   ],
   "source": [
    "print(len(Name),len(Distance),len(Ratings),len(Total_reviews),len(All_reviews),len(Privates),len(Dorms),len(Facilities),len(Desc))"
   ]
  },
  {
   "cell_type": "code",
   "execution_count": 58,
   "id": "ab946568",
   "metadata": {},
   "outputs": [
    {
     "data": {
      "text/html": [
       "<div>\n",
       "<style scoped>\n",
       "    .dataframe tbody tr th:only-of-type {\n",
       "        vertical-align: middle;\n",
       "    }\n",
       "\n",
       "    .dataframe tbody tr th {\n",
       "        vertical-align: top;\n",
       "    }\n",
       "\n",
       "    .dataframe thead th {\n",
       "        text-align: right;\n",
       "    }\n",
       "</style>\n",
       "<table border=\"1\" class=\"dataframe\">\n",
       "  <thead>\n",
       "    <tr style=\"text-align: right;\">\n",
       "      <th></th>\n",
       "      <th>Hoste_Name</th>\n",
       "      <th>Distance_from_city_centre</th>\n",
       "      <th>Ratings</th>\n",
       "      <th>Total_reviews</th>\n",
       "      <th>Overall_reviews</th>\n",
       "      <th>Privates_from_price</th>\n",
       "      <th>Dorms_from_price</th>\n",
       "      <th>Facilities</th>\n",
       "      <th>Property_description</th>\n",
       "    </tr>\n",
       "  </thead>\n",
       "  <tbody>\n",
       "    <tr>\n",
       "      <th>0</th>\n",
       "      <td>NX London Hostel</td>\n",
       "      <td>Hostel - 6.1km from city centre</td>\n",
       "      <td>7.9</td>\n",
       "      <td>1555 Total Reviews</td>\n",
       "      <td>Excellent Cleanliness</td>\n",
       "      <td>Rs6339.37 Rs4438</td>\n",
       "      <td>Rs1897.41 Rs1518</td>\n",
       "      <td>Free WiFi\\nFree Breakfast</td>\n",
       "      <td>Follows Covid-19 sanitation guidance</td>\n",
       "    </tr>\n",
       "    <tr>\n",
       "      <th>1</th>\n",
       "      <td>Wombat's City Hostel London</td>\n",
       "      <td>Hostel - 3.6km from city centre</td>\n",
       "      <td>8.9</td>\n",
       "      <td>14524 Total Reviews</td>\n",
       "      <td>Fantastic Cleanliness</td>\n",
       "      <td>Privates From\\nRs6339.37 Rs4438</td>\n",
       "      <td>Rs1897.41 Rs1518</td>\n",
       "      <td>Free WiFi\\nFollows Covid-19 sanitation guidance</td>\n",
       "      <td>Free WiFi</td>\n",
       "    </tr>\n",
       "    <tr>\n",
       "      <th>2</th>\n",
       "      <td>St Christopher's Village</td>\n",
       "      <td>Hostel - 1.8km from city centre</td>\n",
       "      <td>8.0</td>\n",
       "      <td>11869 Total Reviews</td>\n",
       "      <td>Excellent Cleanliness</td>\n",
       "      <td>Privates From\\nRs6339.37 Rs4438</td>\n",
       "      <td>Rs6339.37 Rs4438</td>\n",
       "      <td>Free WiFi\\nFollows Covid-19 sanitation guidance</td>\n",
       "      <td>Free Breakfast</td>\n",
       "    </tr>\n",
       "    <tr>\n",
       "      <th>3</th>\n",
       "      <td>Astor Hyde Park</td>\n",
       "      <td>Hostel - 4.3km from city centre</td>\n",
       "      <td>8.9</td>\n",
       "      <td>11875 Total Reviews</td>\n",
       "      <td>Fantastic Cleanliness</td>\n",
       "      <td>Privates From\\nRs6339.37 Rs4438</td>\n",
       "      <td>Rs1897.41 Rs1518</td>\n",
       "      <td>Free WiFi\\nFollows Covid-19 sanitation guidance</td>\n",
       "      <td>Free WiFi</td>\n",
       "    </tr>\n",
       "    <tr>\n",
       "      <th>4</th>\n",
       "      <td>Hostel One Notting Hill</td>\n",
       "      <td>Hostel - 5.5km from city centre</td>\n",
       "      <td>9.4</td>\n",
       "      <td>1719 Total Reviews</td>\n",
       "      <td>Fantastic Cleanliness</td>\n",
       "      <td>Rs6339.37 Rs4438</td>\n",
       "      <td>Rs12979.94 Rs10384</td>\n",
       "      <td>Free WiFi</td>\n",
       "      <td>Follows Covid-19 sanitation guidance</td>\n",
       "    </tr>\n",
       "    <tr>\n",
       "      <th>5</th>\n",
       "      <td>Pickwick Hall</td>\n",
       "      <td>Hostel - 2.3km from city centre</td>\n",
       "      <td>8.6</td>\n",
       "      <td>2554 Total Reviews</td>\n",
       "      <td>Excellent Cleanliness</td>\n",
       "      <td>Rs1897.41 Rs1518</td>\n",
       "      <td>Rs3313.42 Rs2651</td>\n",
       "      <td>Free Breakfast</td>\n",
       "      <td>Free WiFi</td>\n",
       "    </tr>\n",
       "    <tr>\n",
       "      <th>6</th>\n",
       "      <td>Generator London</td>\n",
       "      <td>Hostel - 3km from city centre</td>\n",
       "      <td>7.7</td>\n",
       "      <td>7334 Total Reviews</td>\n",
       "      <td>Excellent Cleanliness</td>\n",
       "      <td>Rs12979.94 Rs10384</td>\n",
       "      <td>Rs6732.14 Rs6059</td>\n",
       "      <td>Free WiFi\\nFollows Covid-19 sanitation guidance</td>\n",
       "      <td>Follows Covid-19 sanitation guidance</td>\n",
       "    </tr>\n",
       "    <tr>\n",
       "      <th>7</th>\n",
       "      <td>Safestay London Elephant &amp; Castle</td>\n",
       "      <td>Hostel - 1.7km from city centre</td>\n",
       "      <td>7.3</td>\n",
       "      <td>4802 Total Reviews</td>\n",
       "      <td>Excellent Cleanliness</td>\n",
       "      <td>Rs3313.42 Rs2651</td>\n",
       "      <td>Rs1427.9 Rs1285</td>\n",
       "      <td>Free WiFi\\nFollows Covid-19 sanitation guidance</td>\n",
       "      <td>Free WiFi</td>\n",
       "    </tr>\n",
       "    <tr>\n",
       "      <th>8</th>\n",
       "      <td>Urbany Hostel London</td>\n",
       "      <td>Hostel - 5.4km from city centre</td>\n",
       "      <td>9.2</td>\n",
       "      <td>631 Total Reviews</td>\n",
       "      <td>Fantastic Cleanliness</td>\n",
       "      <td>Rs6732.14 Rs6059</td>\n",
       "      <td>Rs1786</td>\n",
       "      <td>Free WiFi\\nFollows Covid-19 sanitation guidance</td>\n",
       "      <td>Follows Covid-19 sanitation guidance</td>\n",
       "    </tr>\n",
       "    <tr>\n",
       "      <th>9</th>\n",
       "      <td>Smart Russell Square Hostel</td>\n",
       "      <td>Hostel - 2.6km from city centre</td>\n",
       "      <td>7.1</td>\n",
       "      <td>9888 Total Reviews</td>\n",
       "      <td>Awesome Cleanliness</td>\n",
       "      <td>Rs1427.9 Rs1285</td>\n",
       "      <td>Rs8231</td>\n",
       "      <td>Free WiFi\\nFollows Covid-19 sanitation guidance</td>\n",
       "      <td>Free WiFi</td>\n",
       "    </tr>\n",
       "    <tr>\n",
       "      <th>10</th>\n",
       "      <td>Astor Museum Inn</td>\n",
       "      <td>Hostel - 2.2km from city centre</td>\n",
       "      <td>8.0</td>\n",
       "      <td>9162 Total Reviews</td>\n",
       "      <td>Excellent Cleanliness</td>\n",
       "      <td>Rs1786</td>\n",
       "      <td>Rs2817</td>\n",
       "      <td>Free WiFi\\nFollows Covid-19 sanitation guidance</td>\n",
       "      <td>Free Breakfast</td>\n",
       "    </tr>\n",
       "    <tr>\n",
       "      <th>11</th>\n",
       "      <td>Safestay London Kensington Holland Park</td>\n",
       "      <td>Hostel - 5.9km from city centre</td>\n",
       "      <td>7.1</td>\n",
       "      <td>1416 Total Reviews</td>\n",
       "      <td>Awesome Cleanliness</td>\n",
       "      <td>Rs8231</td>\n",
       "      <td>Rs7076</td>\n",
       "      <td>Free WiFi</td>\n",
       "      <td>Free WiFi</td>\n",
       "    </tr>\n",
       "    <tr>\n",
       "      <th>12</th>\n",
       "      <td>Destinations Hostels @ The Gallery</td>\n",
       "      <td>Hostel - 1.7km from city centre</td>\n",
       "      <td>9.4</td>\n",
       "      <td>106 Total Reviews</td>\n",
       "      <td>Fantastic Cleanliness</td>\n",
       "      <td>Rs2817</td>\n",
       "      <td>Rs6587</td>\n",
       "      <td>Free WiFi\\nFree Breakfast</td>\n",
       "      <td>Follows Covid-19 sanitation guidance</td>\n",
       "    </tr>\n",
       "    <tr>\n",
       "      <th>13</th>\n",
       "      <td>Smart Camden Inn Hostel</td>\n",
       "      <td>Hostel - 4.4km from city centre</td>\n",
       "      <td>8.1</td>\n",
       "      <td>3023 Total Reviews</td>\n",
       "      <td>Excellent Cleanliness</td>\n",
       "      <td>Rs7076</td>\n",
       "      <td>Rs2001</td>\n",
       "      <td>Free WiFi\\nFollows Covid-19 sanitation guidance</td>\n",
       "      <td>Free WiFi</td>\n",
       "    </tr>\n",
       "    <tr>\n",
       "      <th>14</th>\n",
       "      <td>No.8 Seven Sisters</td>\n",
       "      <td>Hostel - 9km from city centre</td>\n",
       "      <td>8.2</td>\n",
       "      <td>3954 Total Reviews</td>\n",
       "      <td>Excellent Cleanliness</td>\n",
       "      <td>Rs6587</td>\n",
       "      <td>Rs7278</td>\n",
       "      <td>Free WiFi\\nFollows Covid-19 sanitation guidance</td>\n",
       "      <td>Follows Covid-19 sanitation guidance</td>\n",
       "    </tr>\n",
       "    <tr>\n",
       "      <th>15</th>\n",
       "      <td>St Christopher's Camden</td>\n",
       "      <td>Hostel - 4.3km from city centre</td>\n",
       "      <td>6.7</td>\n",
       "      <td>3969 Total Reviews</td>\n",
       "      <td>Awesome Cleanliness</td>\n",
       "      <td>Rs2001</td>\n",
       "      <td>Rs1547</td>\n",
       "      <td>Free WiFi\\nFollows Covid-19 sanitation guidance</td>\n",
       "      <td>Free WiFi</td>\n",
       "    </tr>\n",
       "    <tr>\n",
       "      <th>16</th>\n",
       "      <td>No.8 Willesden Hostel London</td>\n",
       "      <td>Hostel - 10km from city centre</td>\n",
       "      <td>8.3</td>\n",
       "      <td>4935 Total Reviews</td>\n",
       "      <td>Fantastic Cleanliness</td>\n",
       "      <td>Rs7278</td>\n",
       "      <td>Rs6683</td>\n",
       "      <td>Free WiFi\\nFollows Covid-19 sanitation guidance</td>\n",
       "      <td>Follows Covid-19 sanitation guidance</td>\n",
       "    </tr>\n",
       "    <tr>\n",
       "      <th>17</th>\n",
       "      <td>Dover Castle Hostel and Bar</td>\n",
       "      <td>Hostel - 1.7km from city centre</td>\n",
       "      <td>7.0</td>\n",
       "      <td>2330 Total Reviews</td>\n",
       "      <td>Excellent Cleanliness</td>\n",
       "      <td>Rs1547</td>\n",
       "      <td>Rs2111</td>\n",
       "      <td>Free WiFi</td>\n",
       "      <td>Free WiFi</td>\n",
       "    </tr>\n",
       "    <tr>\n",
       "      <th>18</th>\n",
       "      <td>Phoenix Hostel</td>\n",
       "      <td>Hostel - 4.2km from city centre</td>\n",
       "      <td>7.9</td>\n",
       "      <td>3948 Total Reviews</td>\n",
       "      <td>Excellent Cleanliness</td>\n",
       "      <td>Rs6683</td>\n",
       "      <td>Rs7891</td>\n",
       "      <td>Free WiFi\\nFollows Covid-19 sanitation guidance</td>\n",
       "      <td>Follows Covid-19 sanitation guidance</td>\n",
       "    </tr>\n",
       "    <tr>\n",
       "      <th>19</th>\n",
       "      <td>London Backpackers</td>\n",
       "      <td>Hostel - 11.9km from city centre</td>\n",
       "      <td>8.2</td>\n",
       "      <td>4406 Total Reviews</td>\n",
       "      <td>Awesome Cleanliness</td>\n",
       "      <td>Rs2111</td>\n",
       "      <td>Rs1401</td>\n",
       "      <td>Free WiFi\\nFollows Covid-19 sanitation guidance</td>\n",
       "      <td>Free WiFi</td>\n",
       "    </tr>\n",
       "    <tr>\n",
       "      <th>20</th>\n",
       "      <td>Prime Backpackers Angel</td>\n",
       "      <td>Hostel - 3.6km from city centre</td>\n",
       "      <td>7.8</td>\n",
       "      <td>708 Total Reviews</td>\n",
       "      <td>Excellent Cleanliness</td>\n",
       "      <td>Rs7891</td>\n",
       "      <td>Rs11119</td>\n",
       "      <td>Free WiFi\\nFollows Covid-19 sanitation guidance</td>\n",
       "      <td>Follows Covid-19 sanitation guidance</td>\n",
       "    </tr>\n",
       "    <tr>\n",
       "      <th>21</th>\n",
       "      <td>Astor Victoria</td>\n",
       "      <td>Hostel - 1.8km from city centre</td>\n",
       "      <td>7.7</td>\n",
       "      <td>14890 Total Reviews</td>\n",
       "      <td>Excellent Cleanliness</td>\n",
       "      <td>Rs1401</td>\n",
       "      <td>Rs1820</td>\n",
       "      <td>Free WiFi\\nFollows Covid-19 sanitation guidance</td>\n",
       "      <td>Free WiFi</td>\n",
       "    </tr>\n",
       "    <tr>\n",
       "      <th>22</th>\n",
       "      <td>St Christopher's Hammersmith</td>\n",
       "      <td>Hostel - 7.5km from city centre</td>\n",
       "      <td>7.6</td>\n",
       "      <td>4193 Total Reviews</td>\n",
       "      <td>Fantastic Cleanliness</td>\n",
       "      <td>Rs11119</td>\n",
       "      <td>Rs5459</td>\n",
       "      <td>Free WiFi\\nFollows Covid-19 sanitation guidance</td>\n",
       "      <td>Free WiFi</td>\n",
       "    </tr>\n",
       "    <tr>\n",
       "      <th>23</th>\n",
       "      <td>St Christopher's Inn - London Bridge</td>\n",
       "      <td>Hostel - 1.8km from city centre</td>\n",
       "      <td>8.9</td>\n",
       "      <td>3441 Total Reviews</td>\n",
       "      <td>Excellent Cleanliness</td>\n",
       "      <td>Rs1820</td>\n",
       "      <td>Rs1365</td>\n",
       "      <td>Free WiFi\\nFollows Covid-19 sanitation guidance</td>\n",
       "      <td>Free Breakfast</td>\n",
       "    </tr>\n",
       "    <tr>\n",
       "      <th>24</th>\n",
       "      <td>Barmy Badger Backpackers</td>\n",
       "      <td>Hostel - 5.5km from city centre</td>\n",
       "      <td>7.8</td>\n",
       "      <td>1880 Total Reviews</td>\n",
       "      <td>Awesome Cleanliness</td>\n",
       "      <td>Rs5459</td>\n",
       "      <td>Rs4465</td>\n",
       "      <td>Free WiFi\\nFree Breakfast</td>\n",
       "      <td>Free WiFi</td>\n",
       "    </tr>\n",
       "    <tr>\n",
       "      <th>25</th>\n",
       "      <td>Smart Hyde Park View Hostel</td>\n",
       "      <td>Hostel - 4.8km from city centre</td>\n",
       "      <td>7.0</td>\n",
       "      <td>4662 Total Reviews</td>\n",
       "      <td>Excellent Cleanliness</td>\n",
       "      <td>Rs1365</td>\n",
       "      <td>Rs9668</td>\n",
       "      <td>Free WiFi\\nFollows Covid-19 sanitation guidance</td>\n",
       "      <td>Follows Covid-19 sanitation guidance</td>\n",
       "    </tr>\n",
       "    <tr>\n",
       "      <th>26</th>\n",
       "      <td>Queen Elizabeth Chelsea</td>\n",
       "      <td>Hostel - 5.7km from city centre</td>\n",
       "      <td>8.1</td>\n",
       "      <td>3397 Total Reviews</td>\n",
       "      <td>Excellent Cleanliness</td>\n",
       "      <td>Rs4465</td>\n",
       "      <td>Rs1310</td>\n",
       "      <td>Free WiFi</td>\n",
       "      <td>Free WiFi</td>\n",
       "    </tr>\n",
       "    <tr>\n",
       "      <th>27</th>\n",
       "      <td>Clink261</td>\n",
       "      <td>Hostel - 3.2km from city centre</td>\n",
       "      <td>8.0</td>\n",
       "      <td>185 Total Reviews</td>\n",
       "      <td>Awesome Cleanliness</td>\n",
       "      <td>Rs9668</td>\n",
       "      <td>Rs837</td>\n",
       "      <td>Free WiFi\\nFollows Covid-19 sanitation guidance</td>\n",
       "      <td>Follows Covid-19 sanitation guidance</td>\n",
       "    </tr>\n",
       "  </tbody>\n",
       "</table>\n",
       "</div>"
      ],
      "text/plain": [
       "                                 Hoste_Name         Distance_from_city_centre  \\\n",
       "0                          NX London Hostel   Hostel - 6.1km from city centre   \n",
       "1               Wombat's City Hostel London   Hostel - 3.6km from city centre   \n",
       "2                  St Christopher's Village   Hostel - 1.8km from city centre   \n",
       "3                           Astor Hyde Park   Hostel - 4.3km from city centre   \n",
       "4                   Hostel One Notting Hill   Hostel - 5.5km from city centre   \n",
       "5                             Pickwick Hall   Hostel - 2.3km from city centre   \n",
       "6                          Generator London     Hostel - 3km from city centre   \n",
       "7         Safestay London Elephant & Castle   Hostel - 1.7km from city centre   \n",
       "8                      Urbany Hostel London   Hostel - 5.4km from city centre   \n",
       "9               Smart Russell Square Hostel   Hostel - 2.6km from city centre   \n",
       "10                         Astor Museum Inn   Hostel - 2.2km from city centre   \n",
       "11  Safestay London Kensington Holland Park   Hostel - 5.9km from city centre   \n",
       "12       Destinations Hostels @ The Gallery   Hostel - 1.7km from city centre   \n",
       "13                  Smart Camden Inn Hostel   Hostel - 4.4km from city centre   \n",
       "14                       No.8 Seven Sisters     Hostel - 9km from city centre   \n",
       "15                  St Christopher's Camden   Hostel - 4.3km from city centre   \n",
       "16             No.8 Willesden Hostel London    Hostel - 10km from city centre   \n",
       "17              Dover Castle Hostel and Bar   Hostel - 1.7km from city centre   \n",
       "18                           Phoenix Hostel   Hostel - 4.2km from city centre   \n",
       "19                       London Backpackers  Hostel - 11.9km from city centre   \n",
       "20                  Prime Backpackers Angel   Hostel - 3.6km from city centre   \n",
       "21                           Astor Victoria   Hostel - 1.8km from city centre   \n",
       "22             St Christopher's Hammersmith   Hostel - 7.5km from city centre   \n",
       "23     St Christopher's Inn - London Bridge   Hostel - 1.8km from city centre   \n",
       "24                 Barmy Badger Backpackers   Hostel - 5.5km from city centre   \n",
       "25              Smart Hyde Park View Hostel   Hostel - 4.8km from city centre   \n",
       "26                  Queen Elizabeth Chelsea   Hostel - 5.7km from city centre   \n",
       "27                                 Clink261   Hostel - 3.2km from city centre   \n",
       "\n",
       "   Ratings        Total_reviews        Overall_reviews  \\\n",
       "0      7.9   1555 Total Reviews  Excellent Cleanliness   \n",
       "1      8.9  14524 Total Reviews  Fantastic Cleanliness   \n",
       "2      8.0  11869 Total Reviews  Excellent Cleanliness   \n",
       "3      8.9  11875 Total Reviews  Fantastic Cleanliness   \n",
       "4      9.4   1719 Total Reviews  Fantastic Cleanliness   \n",
       "5      8.6   2554 Total Reviews  Excellent Cleanliness   \n",
       "6      7.7   7334 Total Reviews  Excellent Cleanliness   \n",
       "7      7.3   4802 Total Reviews  Excellent Cleanliness   \n",
       "8      9.2    631 Total Reviews  Fantastic Cleanliness   \n",
       "9      7.1   9888 Total Reviews    Awesome Cleanliness   \n",
       "10     8.0   9162 Total Reviews  Excellent Cleanliness   \n",
       "11     7.1   1416 Total Reviews    Awesome Cleanliness   \n",
       "12     9.4    106 Total Reviews  Fantastic Cleanliness   \n",
       "13     8.1   3023 Total Reviews  Excellent Cleanliness   \n",
       "14     8.2   3954 Total Reviews  Excellent Cleanliness   \n",
       "15     6.7   3969 Total Reviews    Awesome Cleanliness   \n",
       "16     8.3   4935 Total Reviews  Fantastic Cleanliness   \n",
       "17     7.0   2330 Total Reviews  Excellent Cleanliness   \n",
       "18     7.9   3948 Total Reviews  Excellent Cleanliness   \n",
       "19     8.2   4406 Total Reviews    Awesome Cleanliness   \n",
       "20     7.8    708 Total Reviews  Excellent Cleanliness   \n",
       "21     7.7  14890 Total Reviews  Excellent Cleanliness   \n",
       "22     7.6   4193 Total Reviews  Fantastic Cleanliness   \n",
       "23     8.9   3441 Total Reviews  Excellent Cleanliness   \n",
       "24     7.8   1880 Total Reviews    Awesome Cleanliness   \n",
       "25     7.0   4662 Total Reviews  Excellent Cleanliness   \n",
       "26     8.1   3397 Total Reviews  Excellent Cleanliness   \n",
       "27     8.0    185 Total Reviews    Awesome Cleanliness   \n",
       "\n",
       "                Privates_from_price    Dorms_from_price  \\\n",
       "0                  Rs6339.37 Rs4438    Rs1897.41 Rs1518   \n",
       "1   Privates From\\nRs6339.37 Rs4438    Rs1897.41 Rs1518   \n",
       "2   Privates From\\nRs6339.37 Rs4438    Rs6339.37 Rs4438   \n",
       "3   Privates From\\nRs6339.37 Rs4438    Rs1897.41 Rs1518   \n",
       "4                  Rs6339.37 Rs4438  Rs12979.94 Rs10384   \n",
       "5                  Rs1897.41 Rs1518    Rs3313.42 Rs2651   \n",
       "6                Rs12979.94 Rs10384    Rs6732.14 Rs6059   \n",
       "7                  Rs3313.42 Rs2651     Rs1427.9 Rs1285   \n",
       "8                  Rs6732.14 Rs6059              Rs1786   \n",
       "9                   Rs1427.9 Rs1285              Rs8231   \n",
       "10                           Rs1786              Rs2817   \n",
       "11                           Rs8231              Rs7076   \n",
       "12                           Rs2817              Rs6587   \n",
       "13                           Rs7076              Rs2001   \n",
       "14                           Rs6587              Rs7278   \n",
       "15                           Rs2001              Rs1547   \n",
       "16                           Rs7278              Rs6683   \n",
       "17                           Rs1547              Rs2111   \n",
       "18                           Rs6683              Rs7891   \n",
       "19                           Rs2111              Rs1401   \n",
       "20                           Rs7891             Rs11119   \n",
       "21                           Rs1401              Rs1820   \n",
       "22                          Rs11119              Rs5459   \n",
       "23                           Rs1820              Rs1365   \n",
       "24                           Rs5459              Rs4465   \n",
       "25                           Rs1365              Rs9668   \n",
       "26                           Rs4465              Rs1310   \n",
       "27                           Rs9668               Rs837   \n",
       "\n",
       "                                         Facilities  \\\n",
       "0                         Free WiFi\\nFree Breakfast   \n",
       "1   Free WiFi\\nFollows Covid-19 sanitation guidance   \n",
       "2   Free WiFi\\nFollows Covid-19 sanitation guidance   \n",
       "3   Free WiFi\\nFollows Covid-19 sanitation guidance   \n",
       "4                                         Free WiFi   \n",
       "5                                    Free Breakfast   \n",
       "6   Free WiFi\\nFollows Covid-19 sanitation guidance   \n",
       "7   Free WiFi\\nFollows Covid-19 sanitation guidance   \n",
       "8   Free WiFi\\nFollows Covid-19 sanitation guidance   \n",
       "9   Free WiFi\\nFollows Covid-19 sanitation guidance   \n",
       "10  Free WiFi\\nFollows Covid-19 sanitation guidance   \n",
       "11                                        Free WiFi   \n",
       "12                        Free WiFi\\nFree Breakfast   \n",
       "13  Free WiFi\\nFollows Covid-19 sanitation guidance   \n",
       "14  Free WiFi\\nFollows Covid-19 sanitation guidance   \n",
       "15  Free WiFi\\nFollows Covid-19 sanitation guidance   \n",
       "16  Free WiFi\\nFollows Covid-19 sanitation guidance   \n",
       "17                                        Free WiFi   \n",
       "18  Free WiFi\\nFollows Covid-19 sanitation guidance   \n",
       "19  Free WiFi\\nFollows Covid-19 sanitation guidance   \n",
       "20  Free WiFi\\nFollows Covid-19 sanitation guidance   \n",
       "21  Free WiFi\\nFollows Covid-19 sanitation guidance   \n",
       "22  Free WiFi\\nFollows Covid-19 sanitation guidance   \n",
       "23  Free WiFi\\nFollows Covid-19 sanitation guidance   \n",
       "24                        Free WiFi\\nFree Breakfast   \n",
       "25  Free WiFi\\nFollows Covid-19 sanitation guidance   \n",
       "26                                        Free WiFi   \n",
       "27  Free WiFi\\nFollows Covid-19 sanitation guidance   \n",
       "\n",
       "                    Property_description  \n",
       "0   Follows Covid-19 sanitation guidance  \n",
       "1                              Free WiFi  \n",
       "2                         Free Breakfast  \n",
       "3                              Free WiFi  \n",
       "4   Follows Covid-19 sanitation guidance  \n",
       "5                              Free WiFi  \n",
       "6   Follows Covid-19 sanitation guidance  \n",
       "7                              Free WiFi  \n",
       "8   Follows Covid-19 sanitation guidance  \n",
       "9                              Free WiFi  \n",
       "10                        Free Breakfast  \n",
       "11                             Free WiFi  \n",
       "12  Follows Covid-19 sanitation guidance  \n",
       "13                             Free WiFi  \n",
       "14  Follows Covid-19 sanitation guidance  \n",
       "15                             Free WiFi  \n",
       "16  Follows Covid-19 sanitation guidance  \n",
       "17                             Free WiFi  \n",
       "18  Follows Covid-19 sanitation guidance  \n",
       "19                             Free WiFi  \n",
       "20  Follows Covid-19 sanitation guidance  \n",
       "21                             Free WiFi  \n",
       "22                             Free WiFi  \n",
       "23                        Free Breakfast  \n",
       "24                             Free WiFi  \n",
       "25  Follows Covid-19 sanitation guidance  \n",
       "26                             Free WiFi  \n",
       "27  Follows Covid-19 sanitation guidance  "
      ]
     },
     "execution_count": 58,
     "metadata": {},
     "output_type": "execute_result"
    }
   ],
   "source": [
    "df=pd.DataFrame({'Hoste_Name':Name[:28],'Distance_from_city_centre':Distance[:28],'Ratings':Ratings[:28],'Total_reviews':Total_reviews[:28],'Overall_reviews':All_reviews[:28],'Privates_from_price':Privates[:28],'Dorms_from_price':Dorms[:28],'Facilities':Facilities[:28],'Property_description':Desc[:28]})\n",
    "df"
   ]
  },
  {
   "cell_type": "code",
   "execution_count": null,
   "id": "3538438e",
   "metadata": {},
   "outputs": [],
   "source": []
  },
  {
   "cell_type": "code",
   "execution_count": null,
   "id": "973c99c7",
   "metadata": {},
   "outputs": [],
   "source": []
  },
  {
   "cell_type": "code",
   "execution_count": null,
   "id": "cc96540e",
   "metadata": {},
   "outputs": [],
   "source": []
  },
  {
   "cell_type": "code",
   "execution_count": null,
   "id": "02936c33",
   "metadata": {},
   "outputs": [],
   "source": []
  },
  {
   "cell_type": "code",
   "execution_count": null,
   "id": "32fc2d2c",
   "metadata": {},
   "outputs": [],
   "source": []
  },
  {
   "cell_type": "code",
   "execution_count": null,
   "id": "0ce0e2b5",
   "metadata": {},
   "outputs": [],
   "source": []
  },
  {
   "cell_type": "code",
   "execution_count": null,
   "id": "53151b24",
   "metadata": {},
   "outputs": [],
   "source": []
  },
  {
   "cell_type": "code",
   "execution_count": null,
   "id": "261db818",
   "metadata": {},
   "outputs": [],
   "source": []
  },
  {
   "cell_type": "code",
   "execution_count": null,
   "id": "3535ac59",
   "metadata": {},
   "outputs": [],
   "source": []
  },
  {
   "cell_type": "code",
   "execution_count": null,
   "id": "4559dd77",
   "metadata": {},
   "outputs": [],
   "source": []
  },
  {
   "cell_type": "code",
   "execution_count": null,
   "id": "c1c5a47f",
   "metadata": {},
   "outputs": [],
   "source": []
  },
  {
   "cell_type": "code",
   "execution_count": null,
   "id": "054ddaab",
   "metadata": {},
   "outputs": [],
   "source": []
  },
  {
   "cell_type": "code",
   "execution_count": null,
   "id": "696168b7",
   "metadata": {},
   "outputs": [],
   "source": []
  }
 ],
 "metadata": {
  "kernelspec": {
   "display_name": "Python 3 (ipykernel)",
   "language": "python",
   "name": "python3"
  },
  "language_info": {
   "codemirror_mode": {
    "name": "ipython",
    "version": 3
   },
   "file_extension": ".py",
   "mimetype": "text/x-python",
   "name": "python",
   "nbconvert_exporter": "python",
   "pygments_lexer": "ipython3",
   "version": "3.9.12"
  }
 },
 "nbformat": 4,
 "nbformat_minor": 5
}
