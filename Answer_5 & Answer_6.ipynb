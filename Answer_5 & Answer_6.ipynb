{
 "cells": [
  {
   "cell_type": "code",
   "execution_count": null,
   "id": "cc2b4368",
   "metadata": {},
   "outputs": [],
   "source": [
    "Answer_5"
   ]
  },
  {
   "cell_type": "code",
   "execution_count": null,
   "id": "040bdf43",
   "metadata": {},
   "outputs": [],
   "source": [
    "#a)Top 10 ODI teams in men’s cricket along with the records for matches, points and rating."
   ]
  },
  {
   "cell_type": "code",
   "execution_count": 1,
   "id": "f3b390eb",
   "metadata": {},
   "outputs": [],
   "source": [
    "from bs4 import BeautifulSoup\n",
    "import requests\n",
    "import pandas as pd"
   ]
  },
  {
   "cell_type": "code",
   "execution_count": 2,
   "id": "0fdafa23",
   "metadata": {},
   "outputs": [],
   "source": [
    "info=requests.get('https://www.icc-cricket.com/rankings/mens/team-rankings/odi')"
   ]
  },
  {
   "cell_type": "code",
   "execution_count": 3,
   "id": "05efb66c",
   "metadata": {},
   "outputs": [],
   "source": [
    "soup=BeautifulSoup(info.content)"
   ]
  },
  {
   "cell_type": "code",
   "execution_count": 4,
   "id": "977c1f6d",
   "metadata": {},
   "outputs": [],
   "source": [
    "team=soup.find_all('tr',class_=('rankings-block__banner','table-body'))"
   ]
  },
  {
   "cell_type": "code",
   "execution_count": 5,
   "id": "bda9c5e2",
   "metadata": {},
   "outputs": [],
   "source": [
    "top10=team[0:10]"
   ]
  },
  {
   "cell_type": "code",
   "execution_count": 7,
   "id": "120eb9a6",
   "metadata": {},
   "outputs": [],
   "source": [
    "data = {'Team_Name':[],'Matches': [],'Points': [],'Rating':[]}"
   ]
  },
  {
   "cell_type": "code",
   "execution_count": 8,
   "id": "bd210cb2",
   "metadata": {},
   "outputs": [
    {
     "data": {
      "text/html": [
       "<div>\n",
       "<style scoped>\n",
       "    .dataframe tbody tr th:only-of-type {\n",
       "        vertical-align: middle;\n",
       "    }\n",
       "\n",
       "    .dataframe tbody tr th {\n",
       "        vertical-align: top;\n",
       "    }\n",
       "\n",
       "    .dataframe thead th {\n",
       "        text-align: right;\n",
       "    }\n",
       "</style>\n",
       "<table border=\"1\" class=\"dataframe\">\n",
       "  <thead>\n",
       "    <tr style=\"text-align: right;\">\n",
       "      <th></th>\n",
       "      <th>Team_Name</th>\n",
       "      <th>Matches</th>\n",
       "      <th>Points</th>\n",
       "      <th>Rating</th>\n",
       "    </tr>\n",
       "  </thead>\n",
       "  <tbody>\n",
       "    <tr>\n",
       "      <th>1</th>\n",
       "      <td>New Zealand</td>\n",
       "      <td>26</td>\n",
       "      <td>3,045</td>\n",
       "      <td>117               ...</td>\n",
       "    </tr>\n",
       "    <tr>\n",
       "      <th>2</th>\n",
       "      <td>England</td>\n",
       "      <td>30</td>\n",
       "      <td>3,400</td>\n",
       "      <td>113</td>\n",
       "    </tr>\n",
       "    <tr>\n",
       "      <th>3</th>\n",
       "      <td>Australia</td>\n",
       "      <td>32</td>\n",
       "      <td>3,572</td>\n",
       "      <td>112</td>\n",
       "    </tr>\n",
       "    <tr>\n",
       "      <th>4</th>\n",
       "      <td>India</td>\n",
       "      <td>40</td>\n",
       "      <td>4,377</td>\n",
       "      <td>109</td>\n",
       "    </tr>\n",
       "    <tr>\n",
       "      <th>5</th>\n",
       "      <td>Pakistan</td>\n",
       "      <td>25</td>\n",
       "      <td>2,649</td>\n",
       "      <td>106</td>\n",
       "    </tr>\n",
       "    <tr>\n",
       "      <th>6</th>\n",
       "      <td>South Africa</td>\n",
       "      <td>24</td>\n",
       "      <td>2,392</td>\n",
       "      <td>100</td>\n",
       "    </tr>\n",
       "    <tr>\n",
       "      <th>7</th>\n",
       "      <td>Bangladesh</td>\n",
       "      <td>33</td>\n",
       "      <td>3,129</td>\n",
       "      <td>95</td>\n",
       "    </tr>\n",
       "    <tr>\n",
       "      <th>8</th>\n",
       "      <td>Sri Lanka</td>\n",
       "      <td>33</td>\n",
       "      <td>2,917</td>\n",
       "      <td>88</td>\n",
       "    </tr>\n",
       "    <tr>\n",
       "      <th>9</th>\n",
       "      <td>Afghanistan</td>\n",
       "      <td>20</td>\n",
       "      <td>1,419</td>\n",
       "      <td>71</td>\n",
       "    </tr>\n",
       "    <tr>\n",
       "      <th>10</th>\n",
       "      <td>West Indies</td>\n",
       "      <td>41</td>\n",
       "      <td>2,902</td>\n",
       "      <td>71</td>\n",
       "    </tr>\n",
       "  </tbody>\n",
       "</table>\n",
       "</div>"
      ],
      "text/plain": [
       "       Team_Name Matches Points  \\\n",
       "1    New Zealand      26  3,045   \n",
       "2        England      30  3,400   \n",
       "3      Australia      32  3,572   \n",
       "4          India      40  4,377   \n",
       "5       Pakistan      25  2,649   \n",
       "6   South Africa      24  2,392   \n",
       "7     Bangladesh      33  3,129   \n",
       "8      Sri Lanka      33  2,917   \n",
       "9    Afghanistan      20  1,419   \n",
       "10   West Indies      41  2,902   \n",
       "\n",
       "                                               Rating  \n",
       "1                               117               ...  \n",
       "2                                                 113  \n",
       "3                                                 112  \n",
       "4                                                 109  \n",
       "5                                                 106  \n",
       "6                                                 100  \n",
       "7                                                  95  \n",
       "8                                                  88  \n",
       "9                                                  71  \n",
       "10                                                 71  "
      ]
     },
     "execution_count": 8,
     "metadata": {},
     "output_type": "execute_result"
    }
   ],
   "source": [
    "for i in top10:\n",
    "    pnt=i.find_all('td',recursive=True)\n",
    "    data['Team_Name'].append(i.find('span',class_='u-hide-phablet').text)\n",
    "    data['Matches'].append(pnt[2].text)\n",
    "    data['Points'].append(pnt[3].text)\n",
    "    data['Rating'].append(pnt[4].text.replace('\\n',''))\n",
    "MenTeam=pd.DataFrame(data,index=range(1,11))\n",
    "MenTeam"
   ]
  },
  {
   "cell_type": "code",
   "execution_count": null,
   "id": "8a7dca7f",
   "metadata": {},
   "outputs": [],
   "source": [
    "#b) Top 10 ODI Batsmen along with the records of their team and rating."
   ]
  },
  {
   "cell_type": "code",
   "execution_count": 9,
   "id": "585d0042",
   "metadata": {},
   "outputs": [],
   "source": [
    "req=requests.get('https://www.icc-cricket.com/rankings/mens/player-rankings/odi/batting')"
   ]
  },
  {
   "cell_type": "code",
   "execution_count": 10,
   "id": "dc34e996",
   "metadata": {},
   "outputs": [],
   "source": [
    "soup=BeautifulSoup(req.content)"
   ]
  },
  {
   "cell_type": "code",
   "execution_count": 11,
   "id": "05c2fe43",
   "metadata": {},
   "outputs": [],
   "source": [
    "player=soup.find_all('tr',class_=('rankings-block__banner','table-body'))"
   ]
  },
  {
   "cell_type": "code",
   "execution_count": 17,
   "id": "f257fd6d",
   "metadata": {},
   "outputs": [],
   "source": [
    "Top10=player[0:10]"
   ]
  },
  {
   "cell_type": "code",
   "execution_count": 18,
   "id": "3c8dcd7e",
   "metadata": {},
   "outputs": [],
   "source": [
    "data={'Player_Name':[],'Team_Name': [], 'Rating':[]}"
   ]
  },
  {
   "cell_type": "code",
   "execution_count": 19,
   "id": "ddbc85f1",
   "metadata": {},
   "outputs": [
    {
     "data": {
      "text/html": [
       "<div>\n",
       "<style scoped>\n",
       "    .dataframe tbody tr th:only-of-type {\n",
       "        vertical-align: middle;\n",
       "    }\n",
       "\n",
       "    .dataframe tbody tr th {\n",
       "        vertical-align: top;\n",
       "    }\n",
       "\n",
       "    .dataframe thead th {\n",
       "        text-align: right;\n",
       "    }\n",
       "</style>\n",
       "<table border=\"1\" class=\"dataframe\">\n",
       "  <thead>\n",
       "    <tr style=\"text-align: right;\">\n",
       "      <th></th>\n",
       "      <th>Player_Name</th>\n",
       "      <th>Team_Name</th>\n",
       "      <th>Rating</th>\n",
       "    </tr>\n",
       "  </thead>\n",
       "  <tbody>\n",
       "    <tr>\n",
       "      <th>1</th>\n",
       "      <td>Babar Azam</td>\n",
       "      <td>PAK</td>\n",
       "      <td>891</td>\n",
       "    </tr>\n",
       "    <tr>\n",
       "      <th>2</th>\n",
       "      <td>Rassie van der Dussen</td>\n",
       "      <td>SA</td>\n",
       "      <td>766</td>\n",
       "    </tr>\n",
       "    <tr>\n",
       "      <th>3</th>\n",
       "      <td>Imam-ul-Haq</td>\n",
       "      <td>PAK</td>\n",
       "      <td>764</td>\n",
       "    </tr>\n",
       "    <tr>\n",
       "      <th>4</th>\n",
       "      <td>Quinton de Kock</td>\n",
       "      <td>SA</td>\n",
       "      <td>759</td>\n",
       "    </tr>\n",
       "    <tr>\n",
       "      <th>5</th>\n",
       "      <td>David Warner</td>\n",
       "      <td>AUS</td>\n",
       "      <td>747</td>\n",
       "    </tr>\n",
       "    <tr>\n",
       "      <th>6</th>\n",
       "      <td>Virat Kohli</td>\n",
       "      <td>IND</td>\n",
       "      <td>726</td>\n",
       "    </tr>\n",
       "    <tr>\n",
       "      <th>7</th>\n",
       "      <td>Steve Smith</td>\n",
       "      <td>AUS</td>\n",
       "      <td>719</td>\n",
       "    </tr>\n",
       "    <tr>\n",
       "      <th>8</th>\n",
       "      <td>Rohit Sharma</td>\n",
       "      <td>IND</td>\n",
       "      <td>715</td>\n",
       "    </tr>\n",
       "    <tr>\n",
       "      <th>9</th>\n",
       "      <td>Jonny Bairstow</td>\n",
       "      <td>ENG</td>\n",
       "      <td>710</td>\n",
       "    </tr>\n",
       "    <tr>\n",
       "      <th>10</th>\n",
       "      <td>Fakhar Zaman</td>\n",
       "      <td>PAK</td>\n",
       "      <td>695</td>\n",
       "    </tr>\n",
       "  </tbody>\n",
       "</table>\n",
       "</div>"
      ],
      "text/plain": [
       "              Player_Name                Team_Name Rating\n",
       "1              Babar Azam  PAK                        891\n",
       "2   Rassie van der Dussen                       SA    766\n",
       "3             Imam-ul-Haq                      PAK    764\n",
       "4         Quinton de Kock                       SA    759\n",
       "5            David Warner                      AUS    747\n",
       "6             Virat Kohli                      IND    726\n",
       "7             Steve Smith                      AUS    719\n",
       "8            Rohit Sharma                      IND    715\n",
       "9          Jonny Bairstow                      ENG    710\n",
       "10           Fakhar Zaman                      PAK    695"
      ]
     },
     "execution_count": 19,
     "metadata": {},
     "output_type": "execute_result"
    }
   ],
   "source": [
    "for i in Top10:\n",
    "    bat=i.find_all('td',recursive=True)\n",
    "    data['Player_Name'].append(bat[1].text.replace('\\n',''))\n",
    "    data['Team_Name'].append(bat[2].text.replace('\\n',''))\n",
    "    data['Rating'].append(bat[3].text.replace('\\n',''))\n",
    "ODIBATSMAN=pd.DataFrame(data,index=range(1,11))\n",
    "ODIBATSMAN"
   ]
  },
  {
   "cell_type": "code",
   "execution_count": null,
   "id": "e7b7ae88",
   "metadata": {},
   "outputs": [],
   "source": [
    "#c) Top 10 ODI bowlers along with the records of their team and rating."
   ]
  },
  {
   "cell_type": "code",
   "execution_count": 20,
   "id": "0259a5e7",
   "metadata": {},
   "outputs": [],
   "source": [
    "req=requests.get('https://www.icc-cricket.com/rankings/mens/player-rankings/odi/bowling')"
   ]
  },
  {
   "cell_type": "code",
   "execution_count": 21,
   "id": "fdf983ff",
   "metadata": {},
   "outputs": [],
   "source": [
    "soup=BeautifulSoup(req.content)"
   ]
  },
  {
   "cell_type": "code",
   "execution_count": 22,
   "id": "00ba0523",
   "metadata": {},
   "outputs": [],
   "source": [
    "bowler=soup.find_all('tr',class_=('rankings-block__banner','table-body'))"
   ]
  },
  {
   "cell_type": "code",
   "execution_count": 23,
   "id": "3de48a72",
   "metadata": {},
   "outputs": [],
   "source": [
    "Top10=bowler[0:10]"
   ]
  },
  {
   "cell_type": "code",
   "execution_count": 24,
   "id": "842fe247",
   "metadata": {},
   "outputs": [],
   "source": [
    "bdata={'Player_Name':[],'Team_Name': [], 'Rating':[]}"
   ]
  },
  {
   "cell_type": "code",
   "execution_count": 25,
   "id": "5009ac35",
   "metadata": {},
   "outputs": [],
   "source": [
    "for i in Top10:\n",
    "    bat=i.find_all('td',recursive=True)\n",
    "    bdata['Player_Name'].append(bat[1].text.replace('\\n',''))\n",
    "    bdata['Team_Name'].append(bat[2].text.replace('\\n',''))\n",
    "    bdata['Rating'].append(bat[3].text.replace('\\n',''))\n",
    "ODIBOWL=pd.DataFrame(bdata,index=range(1,11))"
   ]
  },
  {
   "cell_type": "code",
   "execution_count": 39,
   "id": "5377835a",
   "metadata": {},
   "outputs": [
    {
     "data": {
      "text/html": [
       "<div>\n",
       "<style scoped>\n",
       "    .dataframe tbody tr th:only-of-type {\n",
       "        vertical-align: middle;\n",
       "    }\n",
       "\n",
       "    .dataframe tbody tr th {\n",
       "        vertical-align: top;\n",
       "    }\n",
       "\n",
       "    .dataframe thead th {\n",
       "        text-align: right;\n",
       "    }\n",
       "</style>\n",
       "<table border=\"1\" class=\"dataframe\">\n",
       "  <thead>\n",
       "    <tr style=\"text-align: right;\">\n",
       "      <th></th>\n",
       "      <th>Player_Name</th>\n",
       "      <th>Team_Name</th>\n",
       "      <th>Rating</th>\n",
       "    </tr>\n",
       "  </thead>\n",
       "  <tbody>\n",
       "    <tr>\n",
       "      <th>1</th>\n",
       "      <td>Trent Boult</td>\n",
       "      <td>NZ</td>\n",
       "      <td>744</td>\n",
       "    </tr>\n",
       "    <tr>\n",
       "      <th>2</th>\n",
       "      <td>Josh Hazlewood</td>\n",
       "      <td>AUS</td>\n",
       "      <td>727</td>\n",
       "    </tr>\n",
       "    <tr>\n",
       "      <th>3</th>\n",
       "      <td>Mitchell Starc</td>\n",
       "      <td>AUS</td>\n",
       "      <td>665</td>\n",
       "    </tr>\n",
       "    <tr>\n",
       "      <th>4</th>\n",
       "      <td>Rashid Khan</td>\n",
       "      <td>AFG</td>\n",
       "      <td>659</td>\n",
       "    </tr>\n",
       "    <tr>\n",
       "      <th>5</th>\n",
       "      <td>Matt Henry</td>\n",
       "      <td>NZ</td>\n",
       "      <td>656</td>\n",
       "    </tr>\n",
       "    <tr>\n",
       "      <th>6</th>\n",
       "      <td>Adam Zampa</td>\n",
       "      <td>AUS</td>\n",
       "      <td>655</td>\n",
       "    </tr>\n",
       "    <tr>\n",
       "      <th>7</th>\n",
       "      <td>Shaheen Afridi</td>\n",
       "      <td>PAK</td>\n",
       "      <td>654</td>\n",
       "    </tr>\n",
       "    <tr>\n",
       "      <th>8</th>\n",
       "      <td>Shakib Al Hasan</td>\n",
       "      <td>BAN</td>\n",
       "      <td>652</td>\n",
       "    </tr>\n",
       "    <tr>\n",
       "      <th>9</th>\n",
       "      <td>Mustafizur Rahman</td>\n",
       "      <td>BAN</td>\n",
       "      <td>638</td>\n",
       "    </tr>\n",
       "    <tr>\n",
       "      <th>10</th>\n",
       "      <td>Mujeeb Ur Rahman</td>\n",
       "      <td>AFG</td>\n",
       "      <td>637</td>\n",
       "    </tr>\n",
       "  </tbody>\n",
       "</table>\n",
       "</div>"
      ],
      "text/plain": [
       "          Player_Name               Team_Name Rating\n",
       "1         Trent Boult  NZ                        744\n",
       "2      Josh Hazlewood                     AUS    727\n",
       "3      Mitchell Starc                     AUS    665\n",
       "4         Rashid Khan                     AFG    659\n",
       "5          Matt Henry                      NZ    656\n",
       "6          Adam Zampa                     AUS    655\n",
       "7      Shaheen Afridi                     PAK    654\n",
       "8     Shakib Al Hasan                     BAN    652\n",
       "9   Mustafizur Rahman                     BAN    638\n",
       "10   Mujeeb Ur Rahman                     AFG    637"
      ]
     },
     "execution_count": 39,
     "metadata": {},
     "output_type": "execute_result"
    }
   ],
   "source": [
    "ODIBOWL"
   ]
  },
  {
   "cell_type": "code",
   "execution_count": null,
   "id": "8f6320f2",
   "metadata": {},
   "outputs": [],
   "source": [
    "Answer_6"
   ]
  },
  {
   "cell_type": "code",
   "execution_count": null,
   "id": "1db4fc6f",
   "metadata": {},
   "outputs": [],
   "source": [
    "#a) Top 10 ODI teams in women’s cricket along with the records for matches, points and rating"
   ]
  },
  {
   "cell_type": "code",
   "execution_count": 31,
   "id": "039cc346",
   "metadata": {},
   "outputs": [],
   "source": [
    "from bs4 import BeautifulSoup\n",
    "import requests\n",
    "import pandas as pd"
   ]
  },
  {
   "cell_type": "code",
   "execution_count": 32,
   "id": "957e3d11",
   "metadata": {},
   "outputs": [],
   "source": [
    "req=requests.get('https://www.icc-cricket.com/rankings/womens/team-rankings/odi')"
   ]
  },
  {
   "cell_type": "code",
   "execution_count": 33,
   "id": "a275f398",
   "metadata": {},
   "outputs": [],
   "source": [
    "soup=BeautifulSoup(req.content)"
   ]
  },
  {
   "cell_type": "code",
   "execution_count": 34,
   "id": "b1431343",
   "metadata": {},
   "outputs": [],
   "source": [
    "team=soup.find_all('tr',class_=('rankings-block__banner','table-body'))"
   ]
  },
  {
   "cell_type": "code",
   "execution_count": 35,
   "id": "9475ccd8",
   "metadata": {},
   "outputs": [],
   "source": [
    "top10=team[0:10]"
   ]
  },
  {
   "cell_type": "code",
   "execution_count": 36,
   "id": "517d37af",
   "metadata": {},
   "outputs": [],
   "source": [
    "data = {'Team_Name':[],'Matches': [],'Points': [],'Rating':[]}"
   ]
  },
  {
   "cell_type": "code",
   "execution_count": 37,
   "id": "71222867",
   "metadata": {},
   "outputs": [],
   "source": [
    "for i in top10:\n",
    "    pnt=i.find_all('td',recursive=True)\n",
    "    data['Team_Name'].append(i.find('span',class_='u-hide-phablet').text)\n",
    "    data['Matches'].append(pnt[2].text)\n",
    "    data['Points'].append(pnt[3].text)\n",
    "    data['Rating'].append(pnt[4].text.strip().replace('\\n',''))\n",
    "WomenTeam=pd.DataFrame(data,index=range(1,11))"
   ]
  },
  {
   "cell_type": "code",
   "execution_count": 38,
   "id": "1b9637ed",
   "metadata": {},
   "outputs": [
    {
     "data": {
      "text/html": [
       "<div>\n",
       "<style scoped>\n",
       "    .dataframe tbody tr th:only-of-type {\n",
       "        vertical-align: middle;\n",
       "    }\n",
       "\n",
       "    .dataframe tbody tr th {\n",
       "        vertical-align: top;\n",
       "    }\n",
       "\n",
       "    .dataframe thead th {\n",
       "        text-align: right;\n",
       "    }\n",
       "</style>\n",
       "<table border=\"1\" class=\"dataframe\">\n",
       "  <thead>\n",
       "    <tr style=\"text-align: right;\">\n",
       "      <th></th>\n",
       "      <th>Team_Name</th>\n",
       "      <th>Matches</th>\n",
       "      <th>Points</th>\n",
       "      <th>Rating</th>\n",
       "    </tr>\n",
       "  </thead>\n",
       "  <tbody>\n",
       "    <tr>\n",
       "      <th>1</th>\n",
       "      <td>Australia</td>\n",
       "      <td>18</td>\n",
       "      <td>3,061</td>\n",
       "      <td>170</td>\n",
       "    </tr>\n",
       "    <tr>\n",
       "      <th>2</th>\n",
       "      <td>England</td>\n",
       "      <td>28</td>\n",
       "      <td>3,342</td>\n",
       "      <td>119</td>\n",
       "    </tr>\n",
       "    <tr>\n",
       "      <th>3</th>\n",
       "      <td>South Africa</td>\n",
       "      <td>26</td>\n",
       "      <td>3,098</td>\n",
       "      <td>119</td>\n",
       "    </tr>\n",
       "    <tr>\n",
       "      <th>4</th>\n",
       "      <td>India</td>\n",
       "      <td>27</td>\n",
       "      <td>2,820</td>\n",
       "      <td>104</td>\n",
       "    </tr>\n",
       "    <tr>\n",
       "      <th>5</th>\n",
       "      <td>New Zealand</td>\n",
       "      <td>25</td>\n",
       "      <td>2,553</td>\n",
       "      <td>102</td>\n",
       "    </tr>\n",
       "    <tr>\n",
       "      <th>6</th>\n",
       "      <td>West Indies</td>\n",
       "      <td>27</td>\n",
       "      <td>2,535</td>\n",
       "      <td>94</td>\n",
       "    </tr>\n",
       "    <tr>\n",
       "      <th>7</th>\n",
       "      <td>Bangladesh</td>\n",
       "      <td>13</td>\n",
       "      <td>983</td>\n",
       "      <td>76</td>\n",
       "    </tr>\n",
       "    <tr>\n",
       "      <th>8</th>\n",
       "      <td>Thailand</td>\n",
       "      <td>8</td>\n",
       "      <td>572</td>\n",
       "      <td>72</td>\n",
       "    </tr>\n",
       "    <tr>\n",
       "      <th>9</th>\n",
       "      <td>Pakistan</td>\n",
       "      <td>24</td>\n",
       "      <td>1,519</td>\n",
       "      <td>63</td>\n",
       "    </tr>\n",
       "    <tr>\n",
       "      <th>10</th>\n",
       "      <td>Sri Lanka</td>\n",
       "      <td>8</td>\n",
       "      <td>353</td>\n",
       "      <td>44</td>\n",
       "    </tr>\n",
       "  </tbody>\n",
       "</table>\n",
       "</div>"
      ],
      "text/plain": [
       "       Team_Name Matches Points Rating\n",
       "1      Australia      18  3,061    170\n",
       "2        England      28  3,342    119\n",
       "3   South Africa      26  3,098    119\n",
       "4          India      27  2,820    104\n",
       "5    New Zealand      25  2,553    102\n",
       "6    West Indies      27  2,535     94\n",
       "7     Bangladesh      13    983     76\n",
       "8       Thailand       8    572     72\n",
       "9       Pakistan      24  1,519     63\n",
       "10     Sri Lanka       8    353     44"
      ]
     },
     "execution_count": 38,
     "metadata": {},
     "output_type": "execute_result"
    }
   ],
   "source": [
    "WomenTeam"
   ]
  },
  {
   "cell_type": "code",
   "execution_count": null,
   "id": "3c20ca2d",
   "metadata": {},
   "outputs": [],
   "source": [
    "#b) Top 10 women’s ODI Batting players along with the records of their team and rating."
   ]
  },
  {
   "cell_type": "code",
   "execution_count": 41,
   "id": "510bd207",
   "metadata": {},
   "outputs": [],
   "source": [
    "req=requests.get('https://www.icc-cricket.com/rankings/womens/player-rankings/odi/batting')"
   ]
  },
  {
   "cell_type": "code",
   "execution_count": 42,
   "id": "f0eb7565",
   "metadata": {},
   "outputs": [],
   "source": [
    "soup=BeautifulSoup(req.content)"
   ]
  },
  {
   "cell_type": "code",
   "execution_count": 43,
   "id": "654bd35c",
   "metadata": {},
   "outputs": [],
   "source": [
    "player=soup.find_all('tr',class_=('rankings-block__banner','table-body'))"
   ]
  },
  {
   "cell_type": "code",
   "execution_count": 44,
   "id": "d363201d",
   "metadata": {},
   "outputs": [],
   "source": [
    "top10=player[0:10]\n",
    "data={'Player_Name':[],'Team_Name': [], 'Rating':[]}"
   ]
  },
  {
   "cell_type": "code",
   "execution_count": 45,
   "id": "6dd8acac",
   "metadata": {},
   "outputs": [
    {
     "data": {
      "text/html": [
       "<div>\n",
       "<style scoped>\n",
       "    .dataframe tbody tr th:only-of-type {\n",
       "        vertical-align: middle;\n",
       "    }\n",
       "\n",
       "    .dataframe tbody tr th {\n",
       "        vertical-align: top;\n",
       "    }\n",
       "\n",
       "    .dataframe thead th {\n",
       "        text-align: right;\n",
       "    }\n",
       "</style>\n",
       "<table border=\"1\" class=\"dataframe\">\n",
       "  <thead>\n",
       "    <tr style=\"text-align: right;\">\n",
       "      <th></th>\n",
       "      <th>Player_Name</th>\n",
       "      <th>Team_Name</th>\n",
       "      <th>Rating</th>\n",
       "    </tr>\n",
       "  </thead>\n",
       "  <tbody>\n",
       "    <tr>\n",
       "      <th>1</th>\n",
       "      <td>Alyssa Healy</td>\n",
       "      <td>AUS</td>\n",
       "      <td>785</td>\n",
       "    </tr>\n",
       "    <tr>\n",
       "      <th>2</th>\n",
       "      <td>Beth Mooney</td>\n",
       "      <td>AUS</td>\n",
       "      <td>749</td>\n",
       "    </tr>\n",
       "    <tr>\n",
       "      <th>3</th>\n",
       "      <td>Laura Wolvaardt</td>\n",
       "      <td>SA</td>\n",
       "      <td>732</td>\n",
       "    </tr>\n",
       "    <tr>\n",
       "      <th>4</th>\n",
       "      <td>Natalie Sciver</td>\n",
       "      <td>ENG</td>\n",
       "      <td>731</td>\n",
       "    </tr>\n",
       "    <tr>\n",
       "      <th>5</th>\n",
       "      <td>Harmanpreet Kaur</td>\n",
       "      <td>IND</td>\n",
       "      <td>716</td>\n",
       "    </tr>\n",
       "    <tr>\n",
       "      <th>6</th>\n",
       "      <td>Smriti Mandhana</td>\n",
       "      <td>IND</td>\n",
       "      <td>714</td>\n",
       "    </tr>\n",
       "    <tr>\n",
       "      <th>7</th>\n",
       "      <td>Meg Lanning</td>\n",
       "      <td>AUS</td>\n",
       "      <td>710</td>\n",
       "    </tr>\n",
       "    <tr>\n",
       "      <th>8</th>\n",
       "      <td>Rachael Haynes</td>\n",
       "      <td>AUS</td>\n",
       "      <td>701</td>\n",
       "    </tr>\n",
       "    <tr>\n",
       "      <th>9</th>\n",
       "      <td>Chamari Athapaththu</td>\n",
       "      <td>SL</td>\n",
       "      <td>655</td>\n",
       "    </tr>\n",
       "    <tr>\n",
       "      <th>10</th>\n",
       "      <td>Ellyse Perry</td>\n",
       "      <td>AUS</td>\n",
       "      <td>642</td>\n",
       "    </tr>\n",
       "  </tbody>\n",
       "</table>\n",
       "</div>"
      ],
      "text/plain": [
       "            Player_Name                Team_Name Rating\n",
       "1          Alyssa Healy  AUS                        785\n",
       "2           Beth Mooney                      AUS    749\n",
       "3       Laura Wolvaardt                       SA    732\n",
       "4        Natalie Sciver                      ENG    731\n",
       "5      Harmanpreet Kaur                      IND    716\n",
       "6       Smriti Mandhana                      IND    714\n",
       "7           Meg Lanning                      AUS    710\n",
       "8        Rachael Haynes                      AUS    701\n",
       "9   Chamari Athapaththu                       SL    655\n",
       "10         Ellyse Perry                      AUS    642"
      ]
     },
     "execution_count": 45,
     "metadata": {},
     "output_type": "execute_result"
    }
   ],
   "source": [
    "for i in top10:\n",
    "    bat=i.find_all('td',recursive=True)\n",
    "    data['Player_Name'].append(bat[1].text.replace('\\n',''))\n",
    "    data['Team_Name'].append(bat[2].text.replace('\\n',''))\n",
    "    data['Rating'].append(bat[3].text.replace('\\n',''))\n",
    "BATW=pd.DataFrame(data,index=range(1,11))  \n",
    "BATW"
   ]
  },
  {
   "cell_type": "code",
   "execution_count": null,
   "id": "1ad81c01",
   "metadata": {},
   "outputs": [],
   "source": [
    "#c) Top 10 women’s ODI all-rounder along with the records of their team and rating"
   ]
  },
  {
   "cell_type": "code",
   "execution_count": 46,
   "id": "23d91774",
   "metadata": {},
   "outputs": [],
   "source": [
    "req=requests.get('https://www.icc-cricket.com/rankings/womens/player-rankings/odi/all-rounder')"
   ]
  },
  {
   "cell_type": "code",
   "execution_count": 47,
   "id": "cf2a5e84",
   "metadata": {},
   "outputs": [],
   "source": [
    "soup=BeautifulSoup(req.content)"
   ]
  },
  {
   "cell_type": "code",
   "execution_count": 48,
   "id": "7c2cf42e",
   "metadata": {},
   "outputs": [],
   "source": [
    "allrounder=soup.find_all('tr',class_=('rankings-block__banner','table-body'))"
   ]
  },
  {
   "cell_type": "code",
   "execution_count": 49,
   "id": "9417fd9e",
   "metadata": {},
   "outputs": [],
   "source": [
    "top10=player[0:10]\n",
    "data={'Allrounder_Name':[],'Team_Name': [], 'Rating':[]}"
   ]
  },
  {
   "cell_type": "code",
   "execution_count": 50,
   "id": "c12f7e67",
   "metadata": {},
   "outputs": [],
   "source": [
    "for i in top10:\n",
    "    bat=i.find_all('td',recursive=True)\n",
    "    data['Allrounder_Name'].append(bat[1].text.replace('\\n',''))\n",
    "    data['Team_Name'].append(bat[2].text.replace('\\n',''))\n",
    "    data['Rating'].append(bat[3].text.replace('\\n',''))\n",
    "Women_All=pd.DataFrame(data,index=range(1,11))"
   ]
  },
  {
   "cell_type": "code",
   "execution_count": 51,
   "id": "54bc7360",
   "metadata": {},
   "outputs": [
    {
     "data": {
      "text/html": [
       "<div>\n",
       "<style scoped>\n",
       "    .dataframe tbody tr th:only-of-type {\n",
       "        vertical-align: middle;\n",
       "    }\n",
       "\n",
       "    .dataframe tbody tr th {\n",
       "        vertical-align: top;\n",
       "    }\n",
       "\n",
       "    .dataframe thead th {\n",
       "        text-align: right;\n",
       "    }\n",
       "</style>\n",
       "<table border=\"1\" class=\"dataframe\">\n",
       "  <thead>\n",
       "    <tr style=\"text-align: right;\">\n",
       "      <th></th>\n",
       "      <th>Allrounder_Name</th>\n",
       "      <th>Team_Name</th>\n",
       "      <th>Rating</th>\n",
       "    </tr>\n",
       "  </thead>\n",
       "  <tbody>\n",
       "    <tr>\n",
       "      <th>1</th>\n",
       "      <td>Alyssa Healy</td>\n",
       "      <td>AUS</td>\n",
       "      <td>785</td>\n",
       "    </tr>\n",
       "    <tr>\n",
       "      <th>2</th>\n",
       "      <td>Beth Mooney</td>\n",
       "      <td>AUS</td>\n",
       "      <td>749</td>\n",
       "    </tr>\n",
       "    <tr>\n",
       "      <th>3</th>\n",
       "      <td>Laura Wolvaardt</td>\n",
       "      <td>SA</td>\n",
       "      <td>732</td>\n",
       "    </tr>\n",
       "    <tr>\n",
       "      <th>4</th>\n",
       "      <td>Natalie Sciver</td>\n",
       "      <td>ENG</td>\n",
       "      <td>731</td>\n",
       "    </tr>\n",
       "    <tr>\n",
       "      <th>5</th>\n",
       "      <td>Harmanpreet Kaur</td>\n",
       "      <td>IND</td>\n",
       "      <td>716</td>\n",
       "    </tr>\n",
       "    <tr>\n",
       "      <th>6</th>\n",
       "      <td>Smriti Mandhana</td>\n",
       "      <td>IND</td>\n",
       "      <td>714</td>\n",
       "    </tr>\n",
       "    <tr>\n",
       "      <th>7</th>\n",
       "      <td>Meg Lanning</td>\n",
       "      <td>AUS</td>\n",
       "      <td>710</td>\n",
       "    </tr>\n",
       "    <tr>\n",
       "      <th>8</th>\n",
       "      <td>Rachael Haynes</td>\n",
       "      <td>AUS</td>\n",
       "      <td>701</td>\n",
       "    </tr>\n",
       "    <tr>\n",
       "      <th>9</th>\n",
       "      <td>Chamari Athapaththu</td>\n",
       "      <td>SL</td>\n",
       "      <td>655</td>\n",
       "    </tr>\n",
       "    <tr>\n",
       "      <th>10</th>\n",
       "      <td>Ellyse Perry</td>\n",
       "      <td>AUS</td>\n",
       "      <td>642</td>\n",
       "    </tr>\n",
       "  </tbody>\n",
       "</table>\n",
       "</div>"
      ],
      "text/plain": [
       "        Allrounder_Name                Team_Name Rating\n",
       "1          Alyssa Healy  AUS                        785\n",
       "2           Beth Mooney                      AUS    749\n",
       "3       Laura Wolvaardt                       SA    732\n",
       "4        Natalie Sciver                      ENG    731\n",
       "5      Harmanpreet Kaur                      IND    716\n",
       "6       Smriti Mandhana                      IND    714\n",
       "7           Meg Lanning                      AUS    710\n",
       "8        Rachael Haynes                      AUS    701\n",
       "9   Chamari Athapaththu                       SL    655\n",
       "10         Ellyse Perry                      AUS    642"
      ]
     },
     "execution_count": 51,
     "metadata": {},
     "output_type": "execute_result"
    }
   ],
   "source": [
    "Women_All"
   ]
  },
  {
   "cell_type": "code",
   "execution_count": null,
   "id": "ce304d31",
   "metadata": {},
   "outputs": [],
   "source": []
  }
 ],
 "metadata": {
  "kernelspec": {
   "display_name": "Python 3 (ipykernel)",
   "language": "python",
   "name": "python3"
  },
  "language_info": {
   "codemirror_mode": {
    "name": "ipython",
    "version": 3
   },
   "file_extension": ".py",
   "mimetype": "text/x-python",
   "name": "python",
   "nbconvert_exporter": "python",
   "pygments_lexer": "ipython3",
   "version": "3.9.12"
  }
 },
 "nbformat": 4,
 "nbformat_minor": 5
}
