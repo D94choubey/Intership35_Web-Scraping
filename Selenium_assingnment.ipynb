{
 "cells": [
  {
   "cell_type": "code",
   "execution_count": 1,
   "id": "d8c3323f",
   "metadata": {},
   "outputs": [],
   "source": [
    "import selenium\n",
    "import pandas as pd\n",
    "from selenium import webdriver\n",
    "import warnings\n",
    "warnings.filterwarnings('ignore')\n",
    "from selenium.common.exceptions import StaleElementReferenceException,NoSuchElementException\n",
    "import time\n",
    "from selenium.webdriver.common.by import By"
   ]
  },
  {
   "cell_type": "code",
   "execution_count": 3,
   "id": "e8182787",
   "metadata": {},
   "outputs": [],
   "source": [
    "driver=webdriver.Chrome(r\"C:\\Users\\hp\\Downloads\\chromedriver_win32\\chromedriver.exe\")"
   ]
  },
  {
   "cell_type": "code",
   "execution_count": 4,
   "id": "16137ff9",
   "metadata": {},
   "outputs": [],
   "source": [
    "driver.get(\"https://www.naukri.com/\")"
   ]
  },
  {
   "cell_type": "code",
   "execution_count": 5,
   "id": "cc829852",
   "metadata": {},
   "outputs": [],
   "source": [
    "designation=driver.find_element(By.CLASS_NAME,\"suggestor-input\")\n",
    "designation.send_keys('Data Analyst')"
   ]
  },
  {
   "cell_type": "code",
   "execution_count": 6,
   "id": "cdad635d",
   "metadata": {},
   "outputs": [],
   "source": [
    "location=driver.find_element(By.XPATH,\"/html/body/div[1]/div[6]/div/div/div[5]/div/div/div/input\")\n",
    "location.send_keys('Banglore')"
   ]
  },
  {
   "cell_type": "code",
   "execution_count": 7,
   "id": "68a59a83",
   "metadata": {},
   "outputs": [],
   "source": [
    "search=driver.find_element(By.CLASS_NAME,\"qsbSubmit\")\n",
    "search.click()"
   ]
  },
  {
   "cell_type": "code",
   "execution_count": 8,
   "id": "a7355e1f",
   "metadata": {},
   "outputs": [],
   "source": [
    "job_title=[]\n",
    "job_location=[]\n",
    "company_name=[]\n",
    "experience_required=[]"
   ]
  },
  {
   "cell_type": "code",
   "execution_count": 9,
   "id": "0728856b",
   "metadata": {},
   "outputs": [],
   "source": [
    "title_tags=driver.find_elements(By.XPATH,'//a[@class=\"title ellipsis\"]')\n",
    "for i in title_tags[0:20]:\n",
    "    title=i.text\n",
    "    job_title.append(title)\n",
    "    \n",
    "location_tags=driver.find_elements(By.XPATH,'//span[@class=\"ellipsis fleft locWdth\"]')\n",
    "for i in location_tags[0:20]:\n",
    "    location=i.text\n",
    "    job_location.append(location)\n",
    "    \n",
    "company_tags=driver.find_elements(By.XPATH,'//a[@class=\"subTitle ellipsis fleft\"]')\n",
    "for i in company_tags[0:20]:\n",
    "    company=i.text\n",
    "    company_name.append(company)\n",
    "    \n",
    "experience_tags=driver.find_elements(By.XPATH,'//span[@class=\"ellipsis fleft expwdth\"]')\n",
    "for i in experience_tags[0:20]:\n",
    "    experience=i.text\n",
    "    experience_required.append(experience)"
   ]
  },
  {
   "cell_type": "code",
   "execution_count": 10,
   "id": "34938b26",
   "metadata": {},
   "outputs": [
    {
     "name": "stdout",
     "output_type": "stream",
     "text": [
      "20 20 20 20\n"
     ]
    }
   ],
   "source": [
    "print(len(job_title),len(job_location),len(company_name),len(experience_required))"
   ]
  },
  {
   "cell_type": "code",
   "execution_count": 11,
   "id": "b467fcb9",
   "metadata": {},
   "outputs": [
    {
     "data": {
      "text/html": [
       "<div>\n",
       "<style scoped>\n",
       "    .dataframe tbody tr th:only-of-type {\n",
       "        vertical-align: middle;\n",
       "    }\n",
       "\n",
       "    .dataframe tbody tr th {\n",
       "        vertical-align: top;\n",
       "    }\n",
       "\n",
       "    .dataframe thead th {\n",
       "        text-align: right;\n",
       "    }\n",
       "</style>\n",
       "<table border=\"1\" class=\"dataframe\">\n",
       "  <thead>\n",
       "    <tr style=\"text-align: right;\">\n",
       "      <th></th>\n",
       "      <th>Title</th>\n",
       "      <th>Location</th>\n",
       "      <th>Company</th>\n",
       "      <th>Experience</th>\n",
       "    </tr>\n",
       "  </thead>\n",
       "  <tbody>\n",
       "    <tr>\n",
       "      <th>0</th>\n",
       "      <td>Business Data Analyst (Sr Exe / Asst Manager)</td>\n",
       "      <td>Bangalore/Bengaluru</td>\n",
       "      <td>Talentleads</td>\n",
       "      <td>3-5 Yrs</td>\n",
       "    </tr>\n",
       "    <tr>\n",
       "      <th>1</th>\n",
       "      <td>Junior Data Analyst/ Scientist- Fresher Position</td>\n",
       "      <td>Hybrid - New Delhi, Bangalore/Bengaluru, Mumba...</td>\n",
       "      <td>Sejal Consulting Hub</td>\n",
       "      <td>0-5 Yrs</td>\n",
       "    </tr>\n",
       "    <tr>\n",
       "      <th>2</th>\n",
       "      <td>Job Opportunity with Leading MNC - Senior Data...</td>\n",
       "      <td>Bangalore/Bengaluru</td>\n",
       "      <td>Enrich And Enlight Business Consulting</td>\n",
       "      <td>5-7 Yrs</td>\n",
       "    </tr>\n",
       "    <tr>\n",
       "      <th>3</th>\n",
       "      <td>Manager/Senior Manager - Data Analyst</td>\n",
       "      <td>Mumbai, Hyderabad/Secunderabad, Pune, Gurgaon/...</td>\n",
       "      <td>Huquo Consulting Pvt. Ltd</td>\n",
       "      <td>2-7 Yrs</td>\n",
       "    </tr>\n",
       "    <tr>\n",
       "      <th>4</th>\n",
       "      <td>Junior Data Analyst</td>\n",
       "      <td>Bangalore/Bengaluru</td>\n",
       "      <td>RCPC</td>\n",
       "      <td>0-1 Yrs</td>\n",
       "    </tr>\n",
       "    <tr>\n",
       "      <th>5</th>\n",
       "      <td>Manager - Data Analyst</td>\n",
       "      <td>Gurgaon/Gurugram, Bangalore/Bengaluru, Delhi /...</td>\n",
       "      <td>Huquo Consulting Pvt. Ltd</td>\n",
       "      <td>3-8 Yrs</td>\n",
       "    </tr>\n",
       "    <tr>\n",
       "      <th>6</th>\n",
       "      <td>Data Analysts - Compliance Surveillance</td>\n",
       "      <td>Hybrid - Bangalore/Bengaluru</td>\n",
       "      <td>Standard Chartered Bank</td>\n",
       "      <td>4-9 Yrs</td>\n",
       "    </tr>\n",
       "    <tr>\n",
       "      <th>7</th>\n",
       "      <td>Reference Data Analyst</td>\n",
       "      <td>Bangalore/Bengaluru</td>\n",
       "      <td>Deutsche Bank</td>\n",
       "      <td>2-5 Yrs</td>\n",
       "    </tr>\n",
       "    <tr>\n",
       "      <th>8</th>\n",
       "      <td>Sr Data Analyst</td>\n",
       "      <td>Hybrid - Bangalore/Bengaluru</td>\n",
       "      <td>Amolitalents</td>\n",
       "      <td>6-9 Yrs</td>\n",
       "    </tr>\n",
       "    <tr>\n",
       "      <th>9</th>\n",
       "      <td>Data Analyst / Sr. Data Analyst / Lead</td>\n",
       "      <td>Hyderabad/Secunderabad, Pune, Chennai, Gurgaon...</td>\n",
       "      <td>Client Of Logical Hiring</td>\n",
       "      <td>3-12 Yrs</td>\n",
       "    </tr>\n",
       "    <tr>\n",
       "      <th>10</th>\n",
       "      <td>Data Analyst</td>\n",
       "      <td>Bangalore/Bengaluru</td>\n",
       "      <td>CPA Global</td>\n",
       "      <td>5-10 Yrs</td>\n",
       "    </tr>\n",
       "    <tr>\n",
       "      <th>11</th>\n",
       "      <td>Data Analyst/Sr Data Analyst</td>\n",
       "      <td>Bangalore/Bengaluru</td>\n",
       "      <td>Adecco Group</td>\n",
       "      <td>1-4 Yrs</td>\n",
       "    </tr>\n",
       "    <tr>\n",
       "      <th>12</th>\n",
       "      <td>Data Analyst</td>\n",
       "      <td>Bangalore/Bengaluru</td>\n",
       "      <td>Clarivate</td>\n",
       "      <td>2-4 Yrs</td>\n",
       "    </tr>\n",
       "    <tr>\n",
       "      <th>13</th>\n",
       "      <td>Business Analyst/Senior Business Analyst- Data...</td>\n",
       "      <td>Gurgaon/Gurugram, Bangalore/Bengaluru, Delhi /...</td>\n",
       "      <td>Huquo Consulting Pvt. Ltd</td>\n",
       "      <td>2-5 Yrs</td>\n",
       "    </tr>\n",
       "    <tr>\n",
       "      <th>14</th>\n",
       "      <td>Business Data Analysts (People &amp; Culture)</td>\n",
       "      <td>Bangalore/Bengaluru</td>\n",
       "      <td>Zscaler Softech</td>\n",
       "      <td>5-6 Yrs</td>\n",
       "    </tr>\n",
       "    <tr>\n",
       "      <th>15</th>\n",
       "      <td>Data Analyst , Data Analytics</td>\n",
       "      <td>Bangalore/Bengaluru</td>\n",
       "      <td>Cardinal Drugs Ltd.</td>\n",
       "      <td>3-8 Yrs</td>\n",
       "    </tr>\n",
       "    <tr>\n",
       "      <th>16</th>\n",
       "      <td>Data Analyst</td>\n",
       "      <td>Bangalore/Bengaluru</td>\n",
       "      <td>Xpheno</td>\n",
       "      <td>2-5 Yrs</td>\n",
       "    </tr>\n",
       "    <tr>\n",
       "      <th>17</th>\n",
       "      <td>Data Analyst</td>\n",
       "      <td>Bangalore/Bengaluru(Sector 2 HSR Layout)</td>\n",
       "      <td>Goldenpi Technologies</td>\n",
       "      <td>2-4 Yrs</td>\n",
       "    </tr>\n",
       "    <tr>\n",
       "      <th>18</th>\n",
       "      <td>Data Analyst - Python/Power BI</td>\n",
       "      <td>Kolkata, Mumbai, Hyderabad/Secunderabad, Luckn...</td>\n",
       "      <td>Huquo Consulting Pvt. Ltd</td>\n",
       "      <td>5-10 Yrs</td>\n",
       "    </tr>\n",
       "    <tr>\n",
       "      <th>19</th>\n",
       "      <td>senior data managment analyst</td>\n",
       "      <td>Bangalore/Bengaluru</td>\n",
       "      <td>Wells Fargo</td>\n",
       "      <td>7-9 Yrs</td>\n",
       "    </tr>\n",
       "  </tbody>\n",
       "</table>\n",
       "</div>"
      ],
      "text/plain": [
       "                                                Title  \\\n",
       "0       Business Data Analyst (Sr Exe / Asst Manager)   \n",
       "1    Junior Data Analyst/ Scientist- Fresher Position   \n",
       "2   Job Opportunity with Leading MNC - Senior Data...   \n",
       "3               Manager/Senior Manager - Data Analyst   \n",
       "4                                 Junior Data Analyst   \n",
       "5                              Manager - Data Analyst   \n",
       "6             Data Analysts - Compliance Surveillance   \n",
       "7                              Reference Data Analyst   \n",
       "8                                     Sr Data Analyst   \n",
       "9              Data Analyst / Sr. Data Analyst / Lead   \n",
       "10                                       Data Analyst   \n",
       "11                       Data Analyst/Sr Data Analyst   \n",
       "12                                       Data Analyst   \n",
       "13  Business Analyst/Senior Business Analyst- Data...   \n",
       "14          Business Data Analysts (People & Culture)   \n",
       "15                      Data Analyst , Data Analytics   \n",
       "16                                       Data Analyst   \n",
       "17                                       Data Analyst   \n",
       "18                     Data Analyst - Python/Power BI   \n",
       "19                      senior data managment analyst   \n",
       "\n",
       "                                             Location  \\\n",
       "0                                 Bangalore/Bengaluru   \n",
       "1   Hybrid - New Delhi, Bangalore/Bengaluru, Mumba...   \n",
       "2                                 Bangalore/Bengaluru   \n",
       "3   Mumbai, Hyderabad/Secunderabad, Pune, Gurgaon/...   \n",
       "4                                 Bangalore/Bengaluru   \n",
       "5   Gurgaon/Gurugram, Bangalore/Bengaluru, Delhi /...   \n",
       "6                        Hybrid - Bangalore/Bengaluru   \n",
       "7                                 Bangalore/Bengaluru   \n",
       "8                        Hybrid - Bangalore/Bengaluru   \n",
       "9   Hyderabad/Secunderabad, Pune, Chennai, Gurgaon...   \n",
       "10                                Bangalore/Bengaluru   \n",
       "11                                Bangalore/Bengaluru   \n",
       "12                                Bangalore/Bengaluru   \n",
       "13  Gurgaon/Gurugram, Bangalore/Bengaluru, Delhi /...   \n",
       "14                                Bangalore/Bengaluru   \n",
       "15                                Bangalore/Bengaluru   \n",
       "16                                Bangalore/Bengaluru   \n",
       "17           Bangalore/Bengaluru(Sector 2 HSR Layout)   \n",
       "18  Kolkata, Mumbai, Hyderabad/Secunderabad, Luckn...   \n",
       "19                                Bangalore/Bengaluru   \n",
       "\n",
       "                                   Company Experience  \n",
       "0                              Talentleads    3-5 Yrs  \n",
       "1                     Sejal Consulting Hub    0-5 Yrs  \n",
       "2   Enrich And Enlight Business Consulting    5-7 Yrs  \n",
       "3                Huquo Consulting Pvt. Ltd    2-7 Yrs  \n",
       "4                                     RCPC    0-1 Yrs  \n",
       "5                Huquo Consulting Pvt. Ltd    3-8 Yrs  \n",
       "6                  Standard Chartered Bank    4-9 Yrs  \n",
       "7                            Deutsche Bank    2-5 Yrs  \n",
       "8                             Amolitalents    6-9 Yrs  \n",
       "9                 Client Of Logical Hiring   3-12 Yrs  \n",
       "10                              CPA Global   5-10 Yrs  \n",
       "11                            Adecco Group    1-4 Yrs  \n",
       "12                               Clarivate    2-4 Yrs  \n",
       "13               Huquo Consulting Pvt. Ltd    2-5 Yrs  \n",
       "14                         Zscaler Softech    5-6 Yrs  \n",
       "15                     Cardinal Drugs Ltd.    3-8 Yrs  \n",
       "16                                  Xpheno    2-5 Yrs  \n",
       "17                   Goldenpi Technologies    2-4 Yrs  \n",
       "18               Huquo Consulting Pvt. Ltd   5-10 Yrs  \n",
       "19                             Wells Fargo    7-9 Yrs  "
      ]
     },
     "execution_count": 11,
     "metadata": {},
     "output_type": "execute_result"
    }
   ],
   "source": [
    "import pandas as pd\n",
    "df=pd.DataFrame({'Title':job_title,'Location':job_location,'Company':company_name,'Experience':experience_required})\n",
    "df"
   ]
  },
  {
   "cell_type": "code",
   "execution_count": null,
   "id": "07f38efc",
   "metadata": {},
   "outputs": [],
   "source": [
    "Answer-2"
   ]
  },
  {
   "cell_type": "code",
   "execution_count": 13,
   "id": "facef139",
   "metadata": {},
   "outputs": [],
   "source": [
    "driver=webdriver.Chrome(r\"C:\\Users\\hp\\Downloads\\chromedriver_win32\\chromedriver.exe\")"
   ]
  },
  {
   "cell_type": "code",
   "execution_count": 14,
   "id": "c45fb56b",
   "metadata": {},
   "outputs": [],
   "source": [
    "driver.get(\"https://www.naukri.com/\")"
   ]
  },
  {
   "cell_type": "code",
   "execution_count": 15,
   "id": "2d62bee6",
   "metadata": {},
   "outputs": [],
   "source": [
    "designation=driver.find_element(By.CLASS_NAME,\"suggestor-input\")\n",
    "designation.send_keys('Data Scientist')"
   ]
  },
  {
   "cell_type": "code",
   "execution_count": 16,
   "id": "0fdcfa87",
   "metadata": {},
   "outputs": [],
   "source": [
    "location=driver.find_element(By.XPATH,\"/html/body/div[1]/div[6]/div/div/div[5]/div/div/div/input\")\n",
    "location.send_keys('Banglore')"
   ]
  },
  {
   "cell_type": "code",
   "execution_count": 17,
   "id": "a350621c",
   "metadata": {},
   "outputs": [],
   "source": [
    "search=driver.find_element(By.CLASS_NAME,\"qsbSubmit\")\n",
    "search.click()"
   ]
  },
  {
   "cell_type": "code",
   "execution_count": 18,
   "id": "26dee294",
   "metadata": {},
   "outputs": [],
   "source": [
    "job_title=[]\n",
    "job_location=[]\n",
    "company_name=[]\n",
    "experience_required=[]"
   ]
  },
  {
   "cell_type": "code",
   "execution_count": 19,
   "id": "490f5c74",
   "metadata": {},
   "outputs": [],
   "source": [
    "title_tags=driver.find_elements(By.XPATH,'//a[@class=\"title ellipsis\"]')\n",
    "for i in title_tags[0:10]:\n",
    "    title=i.text\n",
    "    job_title.append(title)\n",
    "    \n",
    "location_tags=driver.find_elements(By.XPATH,'//span[@class=\"ellipsis fleft locWdth\"]')\n",
    "for i in location_tags[0:10]:\n",
    "    location=i.text\n",
    "    job_location.append(location)\n",
    "    \n",
    "company_tags=driver.find_elements(By.XPATH,'//a[@class=\"subTitle ellipsis fleft\"]')\n",
    "for i in company_tags[0:10]:\n",
    "    company=i.text\n",
    "    company_name.append(company)\n",
    "    \n",
    "experience_tags=driver.find_elements(By.XPATH,'//span[@class=\"ellipsis fleft expwdth\"]')\n",
    "for i in experience_tags[0:10]:\n",
    "    experience=i.text\n",
    "    experience_required.append(experience)"
   ]
  },
  {
   "cell_type": "code",
   "execution_count": 20,
   "id": "2889f1a7",
   "metadata": {},
   "outputs": [
    {
     "name": "stdout",
     "output_type": "stream",
     "text": [
      "10 10 10 10\n"
     ]
    }
   ],
   "source": [
    "print(len(job_title),len(job_location),len(company_name),len(experience_required))"
   ]
  },
  {
   "cell_type": "code",
   "execution_count": 21,
   "id": "4a8fd5f2",
   "metadata": {},
   "outputs": [
    {
     "data": {
      "text/html": [
       "<div>\n",
       "<style scoped>\n",
       "    .dataframe tbody tr th:only-of-type {\n",
       "        vertical-align: middle;\n",
       "    }\n",
       "\n",
       "    .dataframe tbody tr th {\n",
       "        vertical-align: top;\n",
       "    }\n",
       "\n",
       "    .dataframe thead th {\n",
       "        text-align: right;\n",
       "    }\n",
       "</style>\n",
       "<table border=\"1\" class=\"dataframe\">\n",
       "  <thead>\n",
       "    <tr style=\"text-align: right;\">\n",
       "      <th></th>\n",
       "      <th>Title</th>\n",
       "      <th>Location</th>\n",
       "      <th>Company</th>\n",
       "      <th>Experience</th>\n",
       "    </tr>\n",
       "  </thead>\n",
       "  <tbody>\n",
       "    <tr>\n",
       "      <th>0</th>\n",
       "      <td>Data Scientist</td>\n",
       "      <td>Noida, Kolkata, Mumbai, Hyderabad/Secunderabad...</td>\n",
       "      <td>Capgemini</td>\n",
       "      <td>9-14 Yrs</td>\n",
       "    </tr>\n",
       "    <tr>\n",
       "      <th>1</th>\n",
       "      <td>Data Scientist</td>\n",
       "      <td>Temp. WFH - Hyderabad/Secunderabad, Pune, Chen...</td>\n",
       "      <td>Tech Mahindra</td>\n",
       "      <td>7-12 Yrs</td>\n",
       "    </tr>\n",
       "    <tr>\n",
       "      <th>2</th>\n",
       "      <td>Data Science Specialist</td>\n",
       "      <td>Kolkata, Mumbai, Hyderabad/Secunderabad, Pune,...</td>\n",
       "      <td>Accenture</td>\n",
       "      <td>2-4 Yrs</td>\n",
       "    </tr>\n",
       "    <tr>\n",
       "      <th>3</th>\n",
       "      <td>Analystics &amp; Modeling Specialist</td>\n",
       "      <td>Kolkata, Mumbai, Hyderabad/Secunderabad, Pune,...</td>\n",
       "      <td>Accenture</td>\n",
       "      <td>6-8 Yrs</td>\n",
       "    </tr>\n",
       "    <tr>\n",
       "      <th>4</th>\n",
       "      <td>Lead Data Scientist</td>\n",
       "      <td>Noida, Hyderabad/Secunderabad, Pune, Chennai, ...</td>\n",
       "      <td>Birlasoft</td>\n",
       "      <td>8-12 Yrs</td>\n",
       "    </tr>\n",
       "    <tr>\n",
       "      <th>5</th>\n",
       "      <td>Data Scientist</td>\n",
       "      <td>Hybrid - Noida, Hyderabad/Secunderabad, Pune, ...</td>\n",
       "      <td>Birlasoft</td>\n",
       "      <td>8-12 Yrs</td>\n",
       "    </tr>\n",
       "    <tr>\n",
       "      <th>6</th>\n",
       "      <td>Data Scientist Knowledge graph</td>\n",
       "      <td>Hybrid - Pune, Bangalore/Bengaluru</td>\n",
       "      <td>Capco</td>\n",
       "      <td>7-12 Yrs</td>\n",
       "    </tr>\n",
       "    <tr>\n",
       "      <th>7</th>\n",
       "      <td>Data Scientist</td>\n",
       "      <td>Bangalore/Bengaluru</td>\n",
       "      <td>Infosys</td>\n",
       "      <td>3-5 Yrs</td>\n",
       "    </tr>\n",
       "    <tr>\n",
       "      <th>8</th>\n",
       "      <td>Supply Chain Specialist Staff</td>\n",
       "      <td>Bangalore/Bengaluru</td>\n",
       "      <td>Juniper Networks</td>\n",
       "      <td>7-11 Yrs</td>\n",
       "    </tr>\n",
       "    <tr>\n",
       "      <th>9</th>\n",
       "      <td>Research Scientist</td>\n",
       "      <td>Bangalore/Bengaluru</td>\n",
       "      <td>Siemens</td>\n",
       "      <td>2-5 Yrs</td>\n",
       "    </tr>\n",
       "  </tbody>\n",
       "</table>\n",
       "</div>"
      ],
      "text/plain": [
       "                              Title  \\\n",
       "0                    Data Scientist   \n",
       "1                    Data Scientist   \n",
       "2           Data Science Specialist   \n",
       "3  Analystics & Modeling Specialist   \n",
       "4               Lead Data Scientist   \n",
       "5                    Data Scientist   \n",
       "6    Data Scientist Knowledge graph   \n",
       "7                    Data Scientist   \n",
       "8     Supply Chain Specialist Staff   \n",
       "9                Research Scientist   \n",
       "\n",
       "                                            Location           Company  \\\n",
       "0  Noida, Kolkata, Mumbai, Hyderabad/Secunderabad...         Capgemini   \n",
       "1  Temp. WFH - Hyderabad/Secunderabad, Pune, Chen...     Tech Mahindra   \n",
       "2  Kolkata, Mumbai, Hyderabad/Secunderabad, Pune,...         Accenture   \n",
       "3  Kolkata, Mumbai, Hyderabad/Secunderabad, Pune,...         Accenture   \n",
       "4  Noida, Hyderabad/Secunderabad, Pune, Chennai, ...         Birlasoft   \n",
       "5  Hybrid - Noida, Hyderabad/Secunderabad, Pune, ...         Birlasoft   \n",
       "6                 Hybrid - Pune, Bangalore/Bengaluru             Capco   \n",
       "7                                Bangalore/Bengaluru           Infosys   \n",
       "8                                Bangalore/Bengaluru  Juniper Networks   \n",
       "9                                Bangalore/Bengaluru           Siemens   \n",
       "\n",
       "  Experience  \n",
       "0   9-14 Yrs  \n",
       "1   7-12 Yrs  \n",
       "2    2-4 Yrs  \n",
       "3    6-8 Yrs  \n",
       "4   8-12 Yrs  \n",
       "5   8-12 Yrs  \n",
       "6   7-12 Yrs  \n",
       "7    3-5 Yrs  \n",
       "8   7-11 Yrs  \n",
       "9    2-5 Yrs  "
      ]
     },
     "execution_count": 21,
     "metadata": {},
     "output_type": "execute_result"
    }
   ],
   "source": [
    "import pandas as pd\n",
    "df=pd.DataFrame({'Title':job_title,'Location':job_location,'Company':company_name,'Experience':experience_required})\n",
    "df"
   ]
  },
  {
   "cell_type": "code",
   "execution_count": null,
   "id": "089fd29a",
   "metadata": {},
   "outputs": [],
   "source": [
    "Answer_3"
   ]
  },
  {
   "cell_type": "code",
   "execution_count": 2,
   "id": "061cc655",
   "metadata": {},
   "outputs": [],
   "source": [
    "driver=webdriver.Chrome(r\"C:\\Users\\hp\\Downloads\\chromedriver_win32\\chromedriver.exe\")"
   ]
  },
  {
   "cell_type": "code",
   "execution_count": 3,
   "id": "dd67358a",
   "metadata": {},
   "outputs": [],
   "source": [
    "driver.get(\"https://www.naukri.com/\")"
   ]
  },
  {
   "cell_type": "code",
   "execution_count": 4,
   "id": "7c941b23",
   "metadata": {},
   "outputs": [],
   "source": [
    "designation=driver.find_element(By.CLASS_NAME,\"suggestor-input\")\n",
    "designation.send_keys('Data Scientist')"
   ]
  },
  {
   "cell_type": "code",
   "execution_count": 5,
   "id": "a63d85af",
   "metadata": {},
   "outputs": [],
   "source": [
    "location=driver.find_element(By.XPATH,\"/html/body/div[1]/div[6]/div/div/div[5]/div/div/div/input\")\n",
    "location.send_keys('Delhi/NCR')"
   ]
  },
  {
   "cell_type": "code",
   "execution_count": 6,
   "id": "36491c1c",
   "metadata": {},
   "outputs": [],
   "source": [
    "search=driver.find_element(By.CLASS_NAME,\"qsbSubmit\")\n",
    "search.click()"
   ]
  },
  {
   "cell_type": "code",
   "execution_count": 7,
   "id": "6bd1002a",
   "metadata": {},
   "outputs": [],
   "source": [
    "job_title=[]\n",
    "job_location=[]\n",
    "company_name=[]\n",
    "experience_required=[]"
   ]
  },
  {
   "cell_type": "code",
   "execution_count": 8,
   "id": "3295138c",
   "metadata": {},
   "outputs": [],
   "source": [
    "title_tags=driver.find_elements(By.XPATH,'//a[@class=\"title ellipsis\"]')\n",
    "for i in title_tags[0:10]:\n",
    "    title=i.text\n",
    "    job_title.append(title)\n",
    "    \n",
    "location_tags=driver.find_elements(By.XPATH,'//span[@class=\"ellipsis fleft locWdth\"]')\n",
    "for i in location_tags[0:10]:\n",
    "    location=i.text\n",
    "    job_location.append(location)\n",
    "    \n",
    "company_tags=driver.find_elements(By.XPATH,'//a[@class=\"subTitle ellipsis fleft\"]')\n",
    "for i in company_tags[0:10]:\n",
    "    company=i.text\n",
    "    company_name.append(company)\n",
    "    \n",
    "experience_tags=driver.find_elements(By.XPATH,'//span[@class=\"ellipsis fleft expwdth\"]')\n",
    "for i in experience_tags[0:10]:\n",
    "    experience=i.text\n",
    "    experience_required.append(experience)"
   ]
  },
  {
   "cell_type": "code",
   "execution_count": 9,
   "id": "ad8cf72d",
   "metadata": {},
   "outputs": [
    {
     "name": "stdout",
     "output_type": "stream",
     "text": [
      "10 10 10 10\n"
     ]
    }
   ],
   "source": [
    "print(len(job_title),len(job_location),len(company_name),len(experience_required))"
   ]
  },
  {
   "cell_type": "code",
   "execution_count": 10,
   "id": "772bd453",
   "metadata": {},
   "outputs": [
    {
     "data": {
      "text/html": [
       "<div>\n",
       "<style scoped>\n",
       "    .dataframe tbody tr th:only-of-type {\n",
       "        vertical-align: middle;\n",
       "    }\n",
       "\n",
       "    .dataframe tbody tr th {\n",
       "        vertical-align: top;\n",
       "    }\n",
       "\n",
       "    .dataframe thead th {\n",
       "        text-align: right;\n",
       "    }\n",
       "</style>\n",
       "<table border=\"1\" class=\"dataframe\">\n",
       "  <thead>\n",
       "    <tr style=\"text-align: right;\">\n",
       "      <th></th>\n",
       "      <th>Title</th>\n",
       "      <th>Location</th>\n",
       "      <th>Company</th>\n",
       "      <th>Experience</th>\n",
       "    </tr>\n",
       "  </thead>\n",
       "  <tbody>\n",
       "    <tr>\n",
       "      <th>0</th>\n",
       "      <td>Data Scientist</td>\n",
       "      <td>Noida, Kolkata, Mumbai, Hyderabad/Secunderabad...</td>\n",
       "      <td>Capgemini</td>\n",
       "      <td>9-14 Yrs</td>\n",
       "    </tr>\n",
       "    <tr>\n",
       "      <th>1</th>\n",
       "      <td>Data Scientist</td>\n",
       "      <td>Temp. WFH - Delhi / NCR, Hyderabad/Secunderaba...</td>\n",
       "      <td>Tech Mahindra</td>\n",
       "      <td>7-12 Yrs</td>\n",
       "    </tr>\n",
       "    <tr>\n",
       "      <th>2</th>\n",
       "      <td>Lead Data Scientist</td>\n",
       "      <td>Noida, Hyderabad/Secunderabad, Pune, Chennai, ...</td>\n",
       "      <td>Birlasoft</td>\n",
       "      <td>8-12 Yrs</td>\n",
       "    </tr>\n",
       "    <tr>\n",
       "      <th>3</th>\n",
       "      <td>Data Scientist</td>\n",
       "      <td>Hybrid - Noida, Hyderabad/Secunderabad, Pune, ...</td>\n",
       "      <td>Birlasoft</td>\n",
       "      <td>8-12 Yrs</td>\n",
       "    </tr>\n",
       "    <tr>\n",
       "      <th>4</th>\n",
       "      <td>Analytic Delivery Lead</td>\n",
       "      <td>Delhi / NCR, Kolkata, Mumbai, Hyderabad/Secund...</td>\n",
       "      <td>Gharondaa Advisors</td>\n",
       "      <td>10-16 Yrs</td>\n",
       "    </tr>\n",
       "    <tr>\n",
       "      <th>5</th>\n",
       "      <td>Job | Hiring For AVP/ VP | Senior Data Scienti...</td>\n",
       "      <td>Hybrid - Pune, Gurgaon/Gurugram, Bangalore/Ben...</td>\n",
       "      <td>Citicorp Finance</td>\n",
       "      <td>8-13 Yrs</td>\n",
       "    </tr>\n",
       "    <tr>\n",
       "      <th>6</th>\n",
       "      <td>Opportunity For Data Scientist/Sr. Data Scient...</td>\n",
       "      <td>Hybrid - Delhi / NCR, Gurgaon/Gurugram, Bangal...</td>\n",
       "      <td>PayU</td>\n",
       "      <td>3-5 Yrs</td>\n",
       "    </tr>\n",
       "    <tr>\n",
       "      <th>7</th>\n",
       "      <td>Analyst-Data Science</td>\n",
       "      <td>Gurgaon/Gurugram</td>\n",
       "      <td>AMERICAN EXPRESS</td>\n",
       "      <td>0-3 Yrs</td>\n",
       "    </tr>\n",
       "    <tr>\n",
       "      <th>8</th>\n",
       "      <td>Data Scientist</td>\n",
       "      <td>Temp. WFH - Noida, Pune, Bangalore/Bengaluru</td>\n",
       "      <td>Infogain</td>\n",
       "      <td>6-8 Yrs</td>\n",
       "    </tr>\n",
       "    <tr>\n",
       "      <th>9</th>\n",
       "      <td>Data Scientist (HR)</td>\n",
       "      <td>Mumbai, New Delhi, Hyderabad/Secunderabad</td>\n",
       "      <td>NCR Corporation</td>\n",
       "      <td>1-2 Yrs</td>\n",
       "    </tr>\n",
       "  </tbody>\n",
       "</table>\n",
       "</div>"
      ],
      "text/plain": [
       "                                               Title  \\\n",
       "0                                     Data Scientist   \n",
       "1                                     Data Scientist   \n",
       "2                                Lead Data Scientist   \n",
       "3                                     Data Scientist   \n",
       "4                             Analytic Delivery Lead   \n",
       "5  Job | Hiring For AVP/ VP | Senior Data Scienti...   \n",
       "6  Opportunity For Data Scientist/Sr. Data Scient...   \n",
       "7                               Analyst-Data Science   \n",
       "8                                     Data Scientist   \n",
       "9                                Data Scientist (HR)   \n",
       "\n",
       "                                            Location             Company  \\\n",
       "0  Noida, Kolkata, Mumbai, Hyderabad/Secunderabad...           Capgemini   \n",
       "1  Temp. WFH - Delhi / NCR, Hyderabad/Secunderaba...       Tech Mahindra   \n",
       "2  Noida, Hyderabad/Secunderabad, Pune, Chennai, ...           Birlasoft   \n",
       "3  Hybrid - Noida, Hyderabad/Secunderabad, Pune, ...           Birlasoft   \n",
       "4  Delhi / NCR, Kolkata, Mumbai, Hyderabad/Secund...  Gharondaa Advisors   \n",
       "5  Hybrid - Pune, Gurgaon/Gurugram, Bangalore/Ben...    Citicorp Finance   \n",
       "6  Hybrid - Delhi / NCR, Gurgaon/Gurugram, Bangal...                PayU   \n",
       "7                                   Gurgaon/Gurugram    AMERICAN EXPRESS   \n",
       "8       Temp. WFH - Noida, Pune, Bangalore/Bengaluru            Infogain   \n",
       "9          Mumbai, New Delhi, Hyderabad/Secunderabad     NCR Corporation   \n",
       "\n",
       "  Experience  \n",
       "0   9-14 Yrs  \n",
       "1   7-12 Yrs  \n",
       "2   8-12 Yrs  \n",
       "3   8-12 Yrs  \n",
       "4  10-16 Yrs  \n",
       "5   8-13 Yrs  \n",
       "6    3-5 Yrs  \n",
       "7    0-3 Yrs  \n",
       "8    6-8 Yrs  \n",
       "9    1-2 Yrs  "
      ]
     },
     "execution_count": 10,
     "metadata": {},
     "output_type": "execute_result"
    }
   ],
   "source": [
    "import pandas as pd\n",
    "df=pd.DataFrame({'Title':job_title,'Location':job_location,'Company':company_name,'Experience':experience_required})\n",
    "df"
   ]
  },
  {
   "cell_type": "code",
   "execution_count": null,
   "id": "ca884725",
   "metadata": {},
   "outputs": [],
   "source": [
    "Answer_4"
   ]
  },
  {
   "cell_type": "code",
   "execution_count": 34,
   "id": "59f3087a",
   "metadata": {},
   "outputs": [],
   "source": [
    "driver=webdriver.Chrome(r\"C:\\Users\\hp\\Downloads\\chromedriver_win32\\chromedriver.exe\")"
   ]
  },
  {
   "cell_type": "code",
   "execution_count": 35,
   "id": "5f674244",
   "metadata": {},
   "outputs": [],
   "source": [
    "driver.get(\"http://www.flipkart.com/\")"
   ]
  },
  {
   "cell_type": "code",
   "execution_count": 36,
   "id": "170339ee",
   "metadata": {},
   "outputs": [],
   "source": [
    "cross=driver.find_element(By.XPATH,\"/html/body/div[2]/div/div/button\")\n",
    "cross.click()"
   ]
  },
  {
   "cell_type": "code",
   "execution_count": 37,
   "id": "6b1f6c33",
   "metadata": {},
   "outputs": [],
   "source": [
    "product=driver.find_element(By.XPATH,\"/html/body/div[1]/div/div[1]/div[1]/div[2]/div[2]/form/div/div/input\")\n",
    "product.send_keys('sunglasses')"
   ]
  },
  {
   "cell_type": "code",
   "execution_count": 38,
   "id": "52f96110",
   "metadata": {},
   "outputs": [],
   "source": [
    "search=driver.find_element(By.CLASS_NAME,\"L0Z3Pu\")\n",
    "search.click()"
   ]
  },
  {
   "cell_type": "code",
   "execution_count": 39,
   "id": "5b20d428",
   "metadata": {},
   "outputs": [],
   "source": [
    "brand=[]\n",
    "price=[]\n",
    "product_description=[]"
   ]
  },
  {
   "cell_type": "code",
   "execution_count": 40,
   "id": "4ed1a834",
   "metadata": {},
   "outputs": [],
   "source": [
    "start=0\n",
    "end=3\n",
    "for page in range(start,end):\n",
    "    brand_tags=driver.find_elements(By.XPATH,'//div[@class=\"_2WkVRV\"]')\n",
    "    for i in brand_tags[0:100]:\n",
    "        bd=i.text\n",
    "        brand.append(bd)\n",
    "    \n",
    "    price_tags=driver.find_elements(By.XPATH,'//div[@class=\"_30jeq3\"]')\n",
    "    for i in price_tags[0:100]:\n",
    "        PR=i.text\n",
    "        price.append(PR)\n",
    "    \n",
    "    desc_tags=driver.find_elements(By.XPATH,'//a[@class=\"IRpwTa\"]')\n",
    "    for i in desc_tags[0:100]:\n",
    "        PD=i.text\n",
    "        product_description.append(PD)"
   ]
  },
  {
   "cell_type": "code",
   "execution_count": 72,
   "id": "2f3bd30d",
   "metadata": {},
   "outputs": [
    {
     "data": {
      "text/html": [
       "<div>\n",
       "<style scoped>\n",
       "    .dataframe tbody tr th:only-of-type {\n",
       "        vertical-align: middle;\n",
       "    }\n",
       "\n",
       "    .dataframe tbody tr th {\n",
       "        vertical-align: top;\n",
       "    }\n",
       "\n",
       "    .dataframe thead th {\n",
       "        text-align: right;\n",
       "    }\n",
       "</style>\n",
       "<table border=\"1\" class=\"dataframe\">\n",
       "  <thead>\n",
       "    <tr style=\"text-align: right;\">\n",
       "      <th></th>\n",
       "      <th>Brand</th>\n",
       "      <th>Price</th>\n",
       "      <th>Description</th>\n",
       "    </tr>\n",
       "  </thead>\n",
       "  <tbody>\n",
       "    <tr>\n",
       "      <th>0</th>\n",
       "      <td>corsac</td>\n",
       "      <td>₹599</td>\n",
       "      <td>UV Protection Wayfarer Sunglasses (Free Size)</td>\n",
       "    </tr>\n",
       "    <tr>\n",
       "      <th>1</th>\n",
       "      <td>BRUTON</td>\n",
       "      <td>₹149</td>\n",
       "      <td>UV Protection Cat-eye, Retro Square, Oval, Rou...</td>\n",
       "    </tr>\n",
       "    <tr>\n",
       "      <th>2</th>\n",
       "      <td>aadi</td>\n",
       "      <td>₹499</td>\n",
       "      <td>UV Protection Rectangular Sunglasses (Free Size)</td>\n",
       "    </tr>\n",
       "    <tr>\n",
       "      <th>3</th>\n",
       "      <td>World Wear Footwear</td>\n",
       "      <td>₹129</td>\n",
       "      <td>UV Protection Cat-eye, Retro Square, Oval, Rou...</td>\n",
       "    </tr>\n",
       "    <tr>\n",
       "      <th>4</th>\n",
       "      <td>SFR</td>\n",
       "      <td>₹229</td>\n",
       "      <td>UV Protection Round Sunglasses (54)</td>\n",
       "    </tr>\n",
       "    <tr>\n",
       "      <th>...</th>\n",
       "      <td>...</td>\n",
       "      <td>...</td>\n",
       "      <td>...</td>\n",
       "    </tr>\n",
       "    <tr>\n",
       "      <th>95</th>\n",
       "      <td>Footox</td>\n",
       "      <td>₹149</td>\n",
       "      <td>UV Protection Wayfarer Sunglasses (50)</td>\n",
       "    </tr>\n",
       "    <tr>\n",
       "      <th>96</th>\n",
       "      <td>Kzaara</td>\n",
       "      <td>₹579</td>\n",
       "      <td>UV Protection Aviator Sunglasses (Free Size)</td>\n",
       "    </tr>\n",
       "    <tr>\n",
       "      <th>97</th>\n",
       "      <td>Kraasa</td>\n",
       "      <td>₹579</td>\n",
       "      <td>Gradient, UV Protection Wayfarer Sunglasses (F...</td>\n",
       "    </tr>\n",
       "    <tr>\n",
       "      <th>98</th>\n",
       "      <td>aadi</td>\n",
       "      <td>₹129</td>\n",
       "      <td>UV Protection, Polarized Rectangular Sunglasse...</td>\n",
       "    </tr>\n",
       "    <tr>\n",
       "      <th>99</th>\n",
       "      <td>BRUTON</td>\n",
       "      <td>₹244</td>\n",
       "      <td>UV Protection Aviator Sunglasses (54)</td>\n",
       "    </tr>\n",
       "  </tbody>\n",
       "</table>\n",
       "<p>100 rows × 3 columns</p>\n",
       "</div>"
      ],
      "text/plain": [
       "                  Brand Price  \\\n",
       "0                corsac  ₹599   \n",
       "1                BRUTON  ₹149   \n",
       "2                  aadi  ₹499   \n",
       "3   World Wear Footwear  ₹129   \n",
       "4                   SFR  ₹229   \n",
       "..                  ...   ...   \n",
       "95               Footox  ₹149   \n",
       "96               Kzaara  ₹579   \n",
       "97               Kraasa  ₹579   \n",
       "98                 aadi  ₹129   \n",
       "99               BRUTON  ₹244   \n",
       "\n",
       "                                          Description  \n",
       "0       UV Protection Wayfarer Sunglasses (Free Size)  \n",
       "1   UV Protection Cat-eye, Retro Square, Oval, Rou...  \n",
       "2    UV Protection Rectangular Sunglasses (Free Size)  \n",
       "3   UV Protection Cat-eye, Retro Square, Oval, Rou...  \n",
       "4                 UV Protection Round Sunglasses (54)  \n",
       "..                                                ...  \n",
       "95             UV Protection Wayfarer Sunglasses (50)  \n",
       "96       UV Protection Aviator Sunglasses (Free Size)  \n",
       "97  Gradient, UV Protection Wayfarer Sunglasses (F...  \n",
       "98  UV Protection, Polarized Rectangular Sunglasse...  \n",
       "99              UV Protection Aviator Sunglasses (54)  \n",
       "\n",
       "[100 rows x 3 columns]"
      ]
     },
     "execution_count": 72,
     "metadata": {},
     "output_type": "execute_result"
    }
   ],
   "source": [
    "df=pd.DataFrame({'Brand':brand[:100],\"Price\":price[:100],'Description':product_description[:100]})\n",
    "df"
   ]
  },
  {
   "cell_type": "code",
   "execution_count": null,
   "id": "cdeefa6d",
   "metadata": {},
   "outputs": [],
   "source": [
    "Answer_5 # Given link was not working so used this"
   ]
  },
  {
   "cell_type": "code",
   "execution_count": 50,
   "id": "399d7682",
   "metadata": {},
   "outputs": [],
   "source": [
    "driver=webdriver.Chrome(r\"C:\\Users\\hp\\Downloads\\chromedriver_win32\\chromedriver.exe\")"
   ]
  },
  {
   "cell_type": "code",
   "execution_count": 51,
   "id": "6bf2da9e",
   "metadata": {},
   "outputs": [],
   "source": [
    "driver.get(\"http://www.flipkart.com/\")"
   ]
  },
  {
   "cell_type": "code",
   "execution_count": 52,
   "id": "2bfdde3b",
   "metadata": {},
   "outputs": [],
   "source": [
    "cross=driver.find_element(By.XPATH,\"/html/body/div[2]/div/div/button\")\n",
    "cross.click()"
   ]
  },
  {
   "cell_type": "code",
   "execution_count": 53,
   "id": "8e539c12",
   "metadata": {},
   "outputs": [],
   "source": [
    "product=driver.find_element(By.XPATH,\"/html/body/div[1]/div/div[1]/div[1]/div[2]/div[2]/form/div/div/input\")\n",
    "product.send_keys('iphone11')"
   ]
  },
  {
   "cell_type": "code",
   "execution_count": 54,
   "id": "d9a8b64b",
   "metadata": {},
   "outputs": [],
   "source": [
    "search=driver.find_element(By.CLASS_NAME,\"L0Z3Pu\")\n",
    "search.click()"
   ]
  },
  {
   "cell_type": "code",
   "execution_count": 55,
   "id": "9750c31e",
   "metadata": {},
   "outputs": [],
   "source": [
    "product=driver.find_element(By.CLASS_NAME,\"_4rR01T\")\n",
    "product.click()"
   ]
  },
  {
   "cell_type": "code",
   "execution_count": 56,
   "id": "5e10fd20",
   "metadata": {},
   "outputs": [],
   "source": [
    "rating=[]\n",
    "review_summary=[]\n",
    "full_review=[]"
   ]
  },
  {
   "cell_type": "code",
   "execution_count": 57,
   "id": "8cf427b4",
   "metadata": {},
   "outputs": [],
   "source": [
    "rating_tags=driver.find_elements(By.XPATH,'//div[@class=\"_3LWZlK _1BLPMq\"]')\n",
    "for i in rating_tags[0:100]:\n",
    "    RA=i.text\n",
    "    rating.append(RA)"
   ]
  },
  {
   "cell_type": "code",
   "execution_count": 58,
   "id": "fb1706c7",
   "metadata": {},
   "outputs": [],
   "source": [
    "review_tags=driver.find_elements(By.XPATH,'//p[@class=\"_2-N8zT\"]')\n",
    "for i in review_tags[0:100]:\n",
    "    RE=i.text\n",
    "    review_summary.append(RE)"
   ]
  },
  {
   "cell_type": "code",
   "execution_count": 59,
   "id": "74563b15",
   "metadata": {},
   "outputs": [],
   "source": [
    "reviewfull_tags=driver.find_elements(By.XPATH,'//div[@class=\"t-ZTKy\"]')\n",
    "for i in reviewfull_tags[0:100]:\n",
    "    RS=i.text\n",
    "    full_review.append(RS)"
   ]
  },
  {
   "cell_type": "code",
   "execution_count": 61,
   "id": "2a41644c",
   "metadata": {},
   "outputs": [
    {
     "data": {
      "text/html": [
       "<div>\n",
       "<style scoped>\n",
       "    .dataframe tbody tr th:only-of-type {\n",
       "        vertical-align: middle;\n",
       "    }\n",
       "\n",
       "    .dataframe tbody tr th {\n",
       "        vertical-align: top;\n",
       "    }\n",
       "\n",
       "    .dataframe thead th {\n",
       "        text-align: right;\n",
       "    }\n",
       "</style>\n",
       "<table border=\"1\" class=\"dataframe\">\n",
       "  <thead>\n",
       "    <tr style=\"text-align: right;\">\n",
       "      <th></th>\n",
       "      <th>Rating</th>\n",
       "      <th>Review Summary</th>\n",
       "      <th>Full Review</th>\n",
       "    </tr>\n",
       "  </thead>\n",
       "  <tbody>\n",
       "    <tr>\n",
       "      <th>0</th>\n",
       "      <td>5</td>\n",
       "      <td>Perfect product!</td>\n",
       "      <td>After using 3 years mobile review. Excellent &amp;...</td>\n",
       "    </tr>\n",
       "    <tr>\n",
       "      <th>1</th>\n",
       "      <td>5</td>\n",
       "      <td>Terrific</td>\n",
       "      <td>I am using the phone for last 5 years and foun...</td>\n",
       "    </tr>\n",
       "    <tr>\n",
       "      <th>2</th>\n",
       "      <td>5</td>\n",
       "      <td>Fabulous!</td>\n",
       "      <td>Fast performance to previous iPhone x\\nGood ca...</td>\n",
       "    </tr>\n",
       "    <tr>\n",
       "      <th>3</th>\n",
       "      <td>5</td>\n",
       "      <td>Great product</td>\n",
       "      <td>Awesome product ❤️❤️\\nThank you Flipkart</td>\n",
       "    </tr>\n",
       "    <tr>\n",
       "      <th>4</th>\n",
       "      <td>4</td>\n",
       "      <td>Good quality product</td>\n",
       "      <td>impressively Nice......\\nOne of the greatest i...</td>\n",
       "    </tr>\n",
       "    <tr>\n",
       "      <th>5</th>\n",
       "      <td>5</td>\n",
       "      <td>Perfect product!</td>\n",
       "      <td>Nice products thanks flkat</td>\n",
       "    </tr>\n",
       "    <tr>\n",
       "      <th>6</th>\n",
       "      <td>5</td>\n",
       "      <td>Simply awesome</td>\n",
       "      <td>Really satisfied with the Product I received.....</td>\n",
       "    </tr>\n",
       "    <tr>\n",
       "      <th>7</th>\n",
       "      <td>4</td>\n",
       "      <td>Wonderful</td>\n",
       "      <td>Really Good Phone , Better than Many Mobile in...</td>\n",
       "    </tr>\n",
       "  </tbody>\n",
       "</table>\n",
       "</div>"
      ],
      "text/plain": [
       "  Rating        Review Summary  \\\n",
       "0      5      Perfect product!   \n",
       "1      5              Terrific   \n",
       "2      5             Fabulous!   \n",
       "3      5         Great product   \n",
       "4      4  Good quality product   \n",
       "5      5      Perfect product!   \n",
       "6      5        Simply awesome   \n",
       "7      4             Wonderful   \n",
       "\n",
       "                                         Full Review  \n",
       "0  After using 3 years mobile review. Excellent &...  \n",
       "1  I am using the phone for last 5 years and foun...  \n",
       "2  Fast performance to previous iPhone x\\nGood ca...  \n",
       "3           Awesome product ❤️❤️\\nThank you Flipkart  \n",
       "4  impressively Nice......\\nOne of the greatest i...  \n",
       "5                         Nice products thanks flkat  \n",
       "6  Really satisfied with the Product I received.....  \n",
       "7  Really Good Phone , Better than Many Mobile in...  "
      ]
     },
     "execution_count": 61,
     "metadata": {},
     "output_type": "execute_result"
    }
   ],
   "source": [
    "df=pd.DataFrame({'Rating':rating,'Review Summary':review_summary,'Full Review':full_review})\n",
    "df"
   ]
  },
  {
   "cell_type": "code",
   "execution_count": null,
   "id": "b77b7fcf",
   "metadata": {},
   "outputs": [],
   "source": [
    "Answer_6"
   ]
  },
  {
   "cell_type": "code",
   "execution_count": 62,
   "id": "77a5a444",
   "metadata": {},
   "outputs": [],
   "source": [
    "driver=webdriver.Chrome(r\"C:\\Users\\hp\\Downloads\\chromedriver_win32\\chromedriver.exe\")"
   ]
  },
  {
   "cell_type": "code",
   "execution_count": 63,
   "id": "9cbbe59a",
   "metadata": {},
   "outputs": [],
   "source": [
    "driver.get(\"http://www.flipkart.com/\")"
   ]
  },
  {
   "cell_type": "code",
   "execution_count": 64,
   "id": "cfc405f6",
   "metadata": {},
   "outputs": [],
   "source": [
    "cross=driver.find_element(By.XPATH,\"/html/body/div[2]/div/div/button\")\n",
    "cross.click()"
   ]
  },
  {
   "cell_type": "code",
   "execution_count": 65,
   "id": "8430d723",
   "metadata": {},
   "outputs": [],
   "source": [
    "product=driver.find_element(By.XPATH,\"/html/body/div[1]/div/div[1]/div[1]/div[2]/div[2]/form/div/div/input\")\n",
    "product.send_keys('Sneakers')"
   ]
  },
  {
   "cell_type": "code",
   "execution_count": 66,
   "id": "202c8a7b",
   "metadata": {},
   "outputs": [],
   "source": [
    "search=driver.find_element(By.CLASS_NAME,\"L0Z3Pu\")\n",
    "search.click()"
   ]
  },
  {
   "cell_type": "code",
   "execution_count": 67,
   "id": "519be10a",
   "metadata": {},
   "outputs": [],
   "source": [
    "brand=[]\n",
    "description=[]\n",
    "rate=[]"
   ]
  },
  {
   "cell_type": "code",
   "execution_count": 68,
   "id": "d9400276",
   "metadata": {},
   "outputs": [],
   "source": [
    "start=0\n",
    "end=3\n",
    "for page in range(start,end):\n",
    "    brand_tags=driver.find_elements(By.XPATH,'//div[@class=\"_2WkVRV\"]')\n",
    "    for i in brand_tags[0:100]:\n",
    "        bd=i.text\n",
    "        brand.append(bd)\n",
    "        \n",
    "    desc_tags=driver.find_elements(By.XPATH,'//a[@class=\"IRpwTa\"]')\n",
    "    for i in desc_tags[0:100]:\n",
    "        DS=i.text\n",
    "        description.append(DS)\n",
    "\n",
    "    rate_tags=driver.find_elements(By.XPATH,'//div[@class=\"_30jeq3\"]')\n",
    "    for i in rate_tags[0:100]:\n",
    "        RT=i.text\n",
    "        rate.append(RT)"
   ]
  },
  {
   "cell_type": "code",
   "execution_count": 69,
   "id": "d03c93b4",
   "metadata": {},
   "outputs": [
    {
     "name": "stdout",
     "output_type": "stream",
     "text": [
      "120 114 120\n"
     ]
    }
   ],
   "source": [
    "print(len(brand),len(description),len(price))"
   ]
  },
  {
   "cell_type": "code",
   "execution_count": 71,
   "id": "30426d35",
   "metadata": {},
   "outputs": [
    {
     "data": {
      "text/html": [
       "<div>\n",
       "<style scoped>\n",
       "    .dataframe tbody tr th:only-of-type {\n",
       "        vertical-align: middle;\n",
       "    }\n",
       "\n",
       "    .dataframe tbody tr th {\n",
       "        vertical-align: top;\n",
       "    }\n",
       "\n",
       "    .dataframe thead th {\n",
       "        text-align: right;\n",
       "    }\n",
       "</style>\n",
       "<table border=\"1\" class=\"dataframe\">\n",
       "  <thead>\n",
       "    <tr style=\"text-align: right;\">\n",
       "      <th></th>\n",
       "      <th>Brand</th>\n",
       "      <th>Product_Description</th>\n",
       "      <th>Price</th>\n",
       "    </tr>\n",
       "  </thead>\n",
       "  <tbody>\n",
       "    <tr>\n",
       "      <th>0</th>\n",
       "      <td>corsac</td>\n",
       "      <td>2 Combo Sneaker Shoes Sneakers For Men</td>\n",
       "      <td>₹494</td>\n",
       "    </tr>\n",
       "    <tr>\n",
       "      <th>1</th>\n",
       "      <td>BRUTON</td>\n",
       "      <td>Synthetic Leather |Lightweight|Comfort|Summer|...</td>\n",
       "      <td>₹599</td>\n",
       "    </tr>\n",
       "    <tr>\n",
       "      <th>2</th>\n",
       "      <td>aadi</td>\n",
       "      <td>5011-Latest Collection Stylish &amp; Trendy Casual...</td>\n",
       "      <td>₹434</td>\n",
       "    </tr>\n",
       "    <tr>\n",
       "      <th>3</th>\n",
       "      <td>World Wear Footwear</td>\n",
       "      <td>Sneakers For Men</td>\n",
       "      <td>₹399</td>\n",
       "    </tr>\n",
       "    <tr>\n",
       "      <th>4</th>\n",
       "      <td>SFR</td>\n",
       "      <td>ST Activate V2 Sneakers For Men</td>\n",
       "      <td>₹399</td>\n",
       "    </tr>\n",
       "    <tr>\n",
       "      <th>...</th>\n",
       "      <td>...</td>\n",
       "      <td>...</td>\n",
       "      <td>...</td>\n",
       "    </tr>\n",
       "    <tr>\n",
       "      <th>95</th>\n",
       "      <td>Footox</td>\n",
       "      <td>Mesh |Lightweight|Comfort|Summer|Trendy|Walkin...</td>\n",
       "      <td>₹663</td>\n",
       "    </tr>\n",
       "    <tr>\n",
       "      <th>96</th>\n",
       "      <td>Kzaara</td>\n",
       "      <td>Premium White Casual Shoes For Men Sneakers Fo...</td>\n",
       "      <td>₹329</td>\n",
       "    </tr>\n",
       "    <tr>\n",
       "      <th>97</th>\n",
       "      <td>Kraasa</td>\n",
       "      <td>ACTIVE RUN Sneakers For Men</td>\n",
       "      <td>₹499</td>\n",
       "    </tr>\n",
       "    <tr>\n",
       "      <th>98</th>\n",
       "      <td>aadi</td>\n",
       "      <td>Sneakers For Men</td>\n",
       "      <td>₹360</td>\n",
       "    </tr>\n",
       "    <tr>\n",
       "      <th>99</th>\n",
       "      <td>BRUTON</td>\n",
       "      <td>Latest Collection-1216 Stylish Casual Sports S...</td>\n",
       "      <td>₹599</td>\n",
       "    </tr>\n",
       "  </tbody>\n",
       "</table>\n",
       "<p>100 rows × 3 columns</p>\n",
       "</div>"
      ],
      "text/plain": [
       "                  Brand                                Product_Description  \\\n",
       "0                corsac             2 Combo Sneaker Shoes Sneakers For Men   \n",
       "1                BRUTON  Synthetic Leather |Lightweight|Comfort|Summer|...   \n",
       "2                  aadi  5011-Latest Collection Stylish & Trendy Casual...   \n",
       "3   World Wear Footwear                                   Sneakers For Men   \n",
       "4                   SFR                    ST Activate V2 Sneakers For Men   \n",
       "..                  ...                                                ...   \n",
       "95               Footox  Mesh |Lightweight|Comfort|Summer|Trendy|Walkin...   \n",
       "96               Kzaara  Premium White Casual Shoes For Men Sneakers Fo...   \n",
       "97               Kraasa                        ACTIVE RUN Sneakers For Men   \n",
       "98                 aadi                                   Sneakers For Men   \n",
       "99               BRUTON  Latest Collection-1216 Stylish Casual Sports S...   \n",
       "\n",
       "   Price  \n",
       "0   ₹494  \n",
       "1   ₹599  \n",
       "2   ₹434  \n",
       "3   ₹399  \n",
       "4   ₹399  \n",
       "..   ...  \n",
       "95  ₹663  \n",
       "96  ₹329  \n",
       "97  ₹499  \n",
       "98  ₹360  \n",
       "99  ₹599  \n",
       "\n",
       "[100 rows x 3 columns]"
      ]
     },
     "execution_count": 71,
     "metadata": {},
     "output_type": "execute_result"
    }
   ],
   "source": [
    "df=pd.DataFrame({'Brand':brand[:100],'Product_Description':description[:100],'Price':rate[:100]})\n",
    "df"
   ]
  },
  {
   "cell_type": "code",
   "execution_count": null,
   "id": "1eaa5b24",
   "metadata": {},
   "outputs": [],
   "source": [
    "Answer_7"
   ]
  },
  {
   "cell_type": "code",
   "execution_count": 73,
   "id": "1aad65cd",
   "metadata": {},
   "outputs": [],
   "source": [
    "driver=webdriver.Chrome(r\"C:\\Users\\hp\\Downloads\\chromedriver_win32\\chromedriver.exe\")"
   ]
  },
  {
   "cell_type": "code",
   "execution_count": 74,
   "id": "814ea018",
   "metadata": {},
   "outputs": [],
   "source": [
    "driver.get(\"https://www.amazon.in/\")"
   ]
  },
  {
   "cell_type": "code",
   "execution_count": 75,
   "id": "97ba7729",
   "metadata": {},
   "outputs": [],
   "source": [
    "product=driver.find_element(By.XPATH,\"/html/body/div[1]/header/div/div[1]/div[2]/div/form/div[2]/div[1]/input\")\n",
    "product.send_keys('Laptops')"
   ]
  },
  {
   "cell_type": "code",
   "execution_count": 76,
   "id": "1045c25d",
   "metadata": {},
   "outputs": [],
   "source": [
    "search=driver.find_element(By.XPATH,\"/html/body/div[1]/header/div/div[1]/div[2]/div/form/div[3]/div\")\n",
    "search.click()"
   ]
  },
  {
   "cell_type": "code",
   "execution_count": 78,
   "id": "79850c73",
   "metadata": {},
   "outputs": [],
   "source": [
    "title=[]\n",
    "rating=[]\n",
    "price=[]"
   ]
  },
  {
   "cell_type": "code",
   "execution_count": 79,
   "id": "22e3baac",
   "metadata": {},
   "outputs": [],
   "source": [
    "title_tags=driver.find_elements(By.XPATH,'//span[@class=\"a-size-medium a-color-base a-text-normal\"]')\n",
    "for i in title_tags[0:10]:\n",
    "    tt=i.text\n",
    "    title.append(tt)"
   ]
  },
  {
   "cell_type": "code",
   "execution_count": 80,
   "id": "62f749bc",
   "metadata": {},
   "outputs": [],
   "source": [
    "price_tags=driver.find_elements(By.XPATH,'//span[@class=\"a-price-whole\"]')\n",
    "for i in price_tags[0:10]:\n",
    "    PR=i.text\n",
    "    price.append(PR)"
   ]
  },
  {
   "cell_type": "code",
   "execution_count": 85,
   "id": "a2415957",
   "metadata": {},
   "outputs": [],
   "source": [
    "rating_tags=driver.find_elements(By.XPATH,'/html/body/div[1]/div[2]/div[1]/div[1]/div/span[1]/div[1]/div[3]/div/div/div/div/div/div/div/div[2]/div/div/div[2]/div/span[1]/span/a/i[1]')\n",
    "for i in rating_tags[0:10]:\n",
    "    RA=i.text\n",
    "    rating.append(RA)"
   ]
  },
  {
   "cell_type": "code",
   "execution_count": 86,
   "id": "51ba4ecf",
   "metadata": {},
   "outputs": [
    {
     "name": "stdout",
     "output_type": "stream",
     "text": [
      "11 10 10\n"
     ]
    }
   ],
   "source": [
    "print(len(rating), len(title),len(price))"
   ]
  },
  {
   "cell_type": "code",
   "execution_count": 89,
   "id": "2369a9dd",
   "metadata": {},
   "outputs": [
    {
     "data": {
      "text/html": [
       "<div>\n",
       "<style scoped>\n",
       "    .dataframe tbody tr th:only-of-type {\n",
       "        vertical-align: middle;\n",
       "    }\n",
       "\n",
       "    .dataframe tbody tr th {\n",
       "        vertical-align: top;\n",
       "    }\n",
       "\n",
       "    .dataframe thead th {\n",
       "        text-align: right;\n",
       "    }\n",
       "</style>\n",
       "<table border=\"1\" class=\"dataframe\">\n",
       "  <thead>\n",
       "    <tr style=\"text-align: right;\">\n",
       "      <th></th>\n",
       "      <th>Title</th>\n",
       "      <th>Rating</th>\n",
       "      <th>Price</th>\n",
       "    </tr>\n",
       "  </thead>\n",
       "  <tbody>\n",
       "    <tr>\n",
       "      <th>0</th>\n",
       "      <td>Lenovo IdeaPad Slim 3 Intel Core i3 12th Gen 1...</td>\n",
       "      <td></td>\n",
       "      <td>41,426</td>\n",
       "    </tr>\n",
       "    <tr>\n",
       "      <th>1</th>\n",
       "      <td>Lenovo IdeaPad Slim 3 Intel Core i3-1115G4 11t...</td>\n",
       "      <td></td>\n",
       "      <td>32,890</td>\n",
       "    </tr>\n",
       "    <tr>\n",
       "      <th>2</th>\n",
       "      <td>HP 15s, AMD Athlon Silver 3050U 8GB RAM/512GB ...</td>\n",
       "      <td></td>\n",
       "      <td>29,399</td>\n",
       "    </tr>\n",
       "    <tr>\n",
       "      <th>3</th>\n",
       "      <td>HP 255 G8 Business Laptop with AMD Athlon Silv...</td>\n",
       "      <td></td>\n",
       "      <td>26,999</td>\n",
       "    </tr>\n",
       "    <tr>\n",
       "      <th>4</th>\n",
       "      <td>Lenovo IdeaPad Slim 5 AMD Ryzen 7 5700U 15.6\"(...</td>\n",
       "      <td></td>\n",
       "      <td>60,018</td>\n",
       "    </tr>\n",
       "    <tr>\n",
       "      <th>5</th>\n",
       "      <td>Lenovo IdeaPad Slim 3 Intel Core i5 12th Gen 1...</td>\n",
       "      <td></td>\n",
       "      <td>60,927</td>\n",
       "    </tr>\n",
       "    <tr>\n",
       "      <th>6</th>\n",
       "      <td>ASUS VivoBook 15 (2021), 15.6-inch (39.62 cm) ...</td>\n",
       "      <td></td>\n",
       "      <td>1,94,900</td>\n",
       "    </tr>\n",
       "    <tr>\n",
       "      <th>7</th>\n",
       "      <td>HP 15s, 12th Gen Intel Core i5 8GB RAM/512GB S...</td>\n",
       "      <td></td>\n",
       "      <td>1,34,990</td>\n",
       "    </tr>\n",
       "    <tr>\n",
       "      <th>8</th>\n",
       "      <td>Lenovo IdeaPad D330 Intel Celeron N4020 10.1\" ...</td>\n",
       "      <td></td>\n",
       "      <td></td>\n",
       "    </tr>\n",
       "    <tr>\n",
       "      <th>9</th>\n",
       "      <td>Lenovo V15 Intel Celeron N4020 15.6\" (39.62 cm...</td>\n",
       "      <td></td>\n",
       "      <td></td>\n",
       "    </tr>\n",
       "  </tbody>\n",
       "</table>\n",
       "</div>"
      ],
      "text/plain": [
       "                                               Title Rating     Price\n",
       "0  Lenovo IdeaPad Slim 3 Intel Core i3 12th Gen 1...           41,426\n",
       "1  Lenovo IdeaPad Slim 3 Intel Core i3-1115G4 11t...           32,890\n",
       "2  HP 15s, AMD Athlon Silver 3050U 8GB RAM/512GB ...           29,399\n",
       "3  HP 255 G8 Business Laptop with AMD Athlon Silv...           26,999\n",
       "4  Lenovo IdeaPad Slim 5 AMD Ryzen 7 5700U 15.6\"(...           60,018\n",
       "5  Lenovo IdeaPad Slim 3 Intel Core i5 12th Gen 1...           60,927\n",
       "6  ASUS VivoBook 15 (2021), 15.6-inch (39.62 cm) ...         1,94,900\n",
       "7  HP 15s, 12th Gen Intel Core i5 8GB RAM/512GB S...         1,34,990\n",
       "8  Lenovo IdeaPad D330 Intel Celeron N4020 10.1\" ...                 \n",
       "9  Lenovo V15 Intel Celeron N4020 15.6\" (39.62 cm...                 "
      ]
     },
     "execution_count": 89,
     "metadata": {},
     "output_type": "execute_result"
    }
   ],
   "source": [
    "df=pd.DataFrame({'Title':title,'Rating':rating[:10],'Price':price})\n",
    "df"
   ]
  },
  {
   "cell_type": "code",
   "execution_count": null,
   "id": "aeb61c07",
   "metadata": {},
   "outputs": [],
   "source": [
    "Answer_8"
   ]
  },
  {
   "cell_type": "code",
   "execution_count": 96,
   "id": "4d184e28",
   "metadata": {},
   "outputs": [],
   "source": [
    "driver=webdriver.Chrome(r\"C:\\Users\\hp\\Downloads\\chromedriver_win32\\chromedriver.exe\")"
   ]
  },
  {
   "cell_type": "code",
   "execution_count": 97,
   "id": "144bebb9",
   "metadata": {},
   "outputs": [],
   "source": [
    "driver.get(\"https://www.azquotes.com/\")"
   ]
  },
  {
   "cell_type": "code",
   "execution_count": 98,
   "id": "08b55482",
   "metadata": {},
   "outputs": [],
   "source": [
    "quotes=driver.find_element(By.XPATH,'/html/body/div[1]/div[1]/div[1]/div/div[3]/ul/li[5]/a')\n",
    "quotes.click()"
   ]
  },
  {
   "cell_type": "code",
   "execution_count": 99,
   "id": "10f8f92f",
   "metadata": {},
   "outputs": [],
   "source": [
    "quote = []\n",
    "author = [] \n",
    "type = []"
   ]
  },
  {
   "cell_type": "code",
   "execution_count": 100,
   "id": "fcfa15bf",
   "metadata": {},
   "outputs": [],
   "source": [
    "start=0\n",
    "end=10\n",
    "for page in range(start,end):\n",
    "    quote_tags=driver.find_elements(By.XPATH,'//a[@class=\"title\"]')\n",
    "    for i in quote_tags[0:1000]:\n",
    "        qt=i.text\n",
    "        quote.append(qt)\n",
    "        \n",
    "    author_tags=driver.find_elements(By.XPATH,'//div[@class=\"author\"]')\n",
    "    for i in author_tags[0:1000]:\n",
    "        at=i.text\n",
    "        author.append(at)\n",
    "        \n",
    "    type_tags=driver.find_elements(By.XPATH,'//div[@class=\"tags\"]')\n",
    "    for i in type_tags[0:1000]:\n",
    "        tt=i.text\n",
    "        type.append(tt)"
   ]
  },
  {
   "cell_type": "code",
   "execution_count": 101,
   "id": "0cb7cf16",
   "metadata": {},
   "outputs": [
    {
     "name": "stdout",
     "output_type": "stream",
     "text": [
      "1000 1000 1000\n"
     ]
    }
   ],
   "source": [
    "print(len(quote),len(author),len(type))"
   ]
  },
  {
   "cell_type": "code",
   "execution_count": 102,
   "id": "aaa9ad39",
   "metadata": {},
   "outputs": [
    {
     "data": {
      "text/html": [
       "<div>\n",
       "<style scoped>\n",
       "    .dataframe tbody tr th:only-of-type {\n",
       "        vertical-align: middle;\n",
       "    }\n",
       "\n",
       "    .dataframe tbody tr th {\n",
       "        vertical-align: top;\n",
       "    }\n",
       "\n",
       "    .dataframe thead th {\n",
       "        text-align: right;\n",
       "    }\n",
       "</style>\n",
       "<table border=\"1\" class=\"dataframe\">\n",
       "  <thead>\n",
       "    <tr style=\"text-align: right;\">\n",
       "      <th></th>\n",
       "      <th>Quote</th>\n",
       "      <th>Author</th>\n",
       "      <th>Type_of_quotes</th>\n",
       "    </tr>\n",
       "  </thead>\n",
       "  <tbody>\n",
       "    <tr>\n",
       "      <th>0</th>\n",
       "      <td>The essence of strategy is choosing what not t...</td>\n",
       "      <td>Michael Porter</td>\n",
       "      <td>Essence, Deep Thought, Transcendentalism</td>\n",
       "    </tr>\n",
       "    <tr>\n",
       "      <th>1</th>\n",
       "      <td>One cannot and must not try to erase the past ...</td>\n",
       "      <td>Golda Meir</td>\n",
       "      <td>Inspiration, Past, Trying</td>\n",
       "    </tr>\n",
       "    <tr>\n",
       "      <th>2</th>\n",
       "      <td>Patriotism means to stand by the country. It d...</td>\n",
       "      <td>Theodore Roosevelt</td>\n",
       "      <td>Country, Peace, War</td>\n",
       "    </tr>\n",
       "    <tr>\n",
       "      <th>3</th>\n",
       "      <td>Death is something inevitable. When a man has ...</td>\n",
       "      <td>Nelson Mandela</td>\n",
       "      <td>Inspirational, Motivational, Death</td>\n",
       "    </tr>\n",
       "    <tr>\n",
       "      <th>4</th>\n",
       "      <td>You have to love a nation that celebrates its ...</td>\n",
       "      <td>Erma Bombeck</td>\n",
       "      <td>4th Of July, Food, Patriotic</td>\n",
       "    </tr>\n",
       "    <tr>\n",
       "      <th>...</th>\n",
       "      <td>...</td>\n",
       "      <td>...</td>\n",
       "      <td>...</td>\n",
       "    </tr>\n",
       "    <tr>\n",
       "      <th>995</th>\n",
       "      <td>When the going gets weird, the weird turn pro.</td>\n",
       "      <td>Hunter S. Thompson</td>\n",
       "      <td>Music, Sports, Hunting</td>\n",
       "    </tr>\n",
       "    <tr>\n",
       "      <th>996</th>\n",
       "      <td>When a train goes through a tunnel and it gets...</td>\n",
       "      <td>Corrie Ten Boom</td>\n",
       "      <td>Trust, Encouraging, Uplifting</td>\n",
       "    </tr>\n",
       "    <tr>\n",
       "      <th>997</th>\n",
       "      <td>If you think you are too small to make a diffe...</td>\n",
       "      <td>Dalai Lama</td>\n",
       "      <td>Inspirational, Funny, Change</td>\n",
       "    </tr>\n",
       "    <tr>\n",
       "      <th>998</th>\n",
       "      <td>God doesn't require us to succeed, he only req...</td>\n",
       "      <td>Mother Teresa</td>\n",
       "      <td>Success, God, Mother</td>\n",
       "    </tr>\n",
       "    <tr>\n",
       "      <th>999</th>\n",
       "      <td>Change your thoughts and you change your world.</td>\n",
       "      <td>Norman Vincent Peale</td>\n",
       "      <td>Inspirational, Motivational, Change</td>\n",
       "    </tr>\n",
       "  </tbody>\n",
       "</table>\n",
       "<p>1000 rows × 3 columns</p>\n",
       "</div>"
      ],
      "text/plain": [
       "                                                 Quote                Author  \\\n",
       "0    The essence of strategy is choosing what not t...        Michael Porter   \n",
       "1    One cannot and must not try to erase the past ...            Golda Meir   \n",
       "2    Patriotism means to stand by the country. It d...    Theodore Roosevelt   \n",
       "3    Death is something inevitable. When a man has ...        Nelson Mandela   \n",
       "4    You have to love a nation that celebrates its ...          Erma Bombeck   \n",
       "..                                                 ...                   ...   \n",
       "995     When the going gets weird, the weird turn pro.    Hunter S. Thompson   \n",
       "996  When a train goes through a tunnel and it gets...       Corrie Ten Boom   \n",
       "997  If you think you are too small to make a diffe...            Dalai Lama   \n",
       "998  God doesn't require us to succeed, he only req...         Mother Teresa   \n",
       "999    Change your thoughts and you change your world.  Norman Vincent Peale   \n",
       "\n",
       "                               Type_of_quotes  \n",
       "0    Essence, Deep Thought, Transcendentalism  \n",
       "1                   Inspiration, Past, Trying  \n",
       "2                         Country, Peace, War  \n",
       "3          Inspirational, Motivational, Death  \n",
       "4                4th Of July, Food, Patriotic  \n",
       "..                                        ...  \n",
       "995                    Music, Sports, Hunting  \n",
       "996             Trust, Encouraging, Uplifting  \n",
       "997              Inspirational, Funny, Change  \n",
       "998                      Success, God, Mother  \n",
       "999       Inspirational, Motivational, Change  \n",
       "\n",
       "[1000 rows x 3 columns]"
      ]
     },
     "execution_count": 102,
     "metadata": {},
     "output_type": "execute_result"
    }
   ],
   "source": [
    "df=pd.DataFrame({'Quote':quote,'Author':author,'Type_of_quotes':type})\n",
    "df"
   ]
  },
  {
   "cell_type": "code",
   "execution_count": null,
   "id": "8dc1cbed",
   "metadata": {},
   "outputs": [],
   "source": [
    "Answer_9"
   ]
  },
  {
   "cell_type": "code",
   "execution_count": 103,
   "id": "358cb825",
   "metadata": {},
   "outputs": [],
   "source": [
    "driver=webdriver.Chrome(r\"C:\\Users\\hp\\Downloads\\chromedriver_win32\\chromedriver.exe\")"
   ]
  },
  {
   "cell_type": "code",
   "execution_count": 104,
   "id": "2d8b568a",
   "metadata": {},
   "outputs": [],
   "source": [
    "driver.get(\"https://www.jagranjosh.com/\")"
   ]
  },
  {
   "cell_type": "code",
   "execution_count": 107,
   "id": "a0ee5dc7",
   "metadata": {},
   "outputs": [],
   "source": [
    "gk=driver.find_element(By.XPATH,'/html/body/div/div[1]/div/div[1]/div/div[6]/div/div[1]/header/div[3]/ul/li[9]/a')\n",
    "gk.click()"
   ]
  },
  {
   "cell_type": "code",
   "execution_count": 108,
   "id": "178a88a8",
   "metadata": {},
   "outputs": [],
   "source": [
    "list_of_pm=driver.find_element(By.XPATH,'/html/body/div/div/div/div[2]/div/div[10]/div/div/ul/li[2]/a')\n",
    "list_of_pm.click()"
   ]
  },
  {
   "cell_type": "code",
   "execution_count": 109,
   "id": "6045911f",
   "metadata": {},
   "outputs": [],
   "source": [
    "name=[]\n",
    "born_dead=[]\n",
    "term=[]\n",
    "remarks=[]"
   ]
  },
  {
   "cell_type": "code",
   "execution_count": 126,
   "id": "fdec0b4d",
   "metadata": {},
   "outputs": [
    {
     "ename": "SyntaxError",
     "evalue": "invalid syntax (3021298822.py, line 2)",
     "output_type": "error",
     "traceback": [
      "\u001b[1;36m  Input \u001b[1;32mIn [126]\u001b[1;36m\u001b[0m\n\u001b[1;33m    for i in name_tags[0:18]\u001b[0m\n\u001b[1;37m                            ^\u001b[0m\n\u001b[1;31mSyntaxError\u001b[0m\u001b[1;31m:\u001b[0m invalid syntax\n"
     ]
    }
   ],
   "source": [
    "name_tags=driver.find_elements(By.XPATH,'/html/body/div[1]/div[2]/div/div[2]/div/div[1]/div/div/div/div[4]/span/div[2]/table/tbody/tr[2]/td[2]/p/strong/a')\n",
    "for i in name_tags[0:18]\n",
    "nt=i.text\n",
    "name.append\n",
    "\n",
    "line_tags=driver.find_elements(By.XPATH,'/html/body/div[1]/div[2]/div/div[2]/div/div[1]/div/div/div/div[4]/span/div[2]/table/tbody/tr[2]/td[3]/p')\n",
    "for i in line_tags[0:18]\n",
    "lt=i.text\n",
    "born_dead.append\n",
    "\n",
    "term_tags=driver.find_elements(By.XPATH,'/html/body/div[1]/div[2]/div/div[2]/div/div[1]/div/div/div/div[4]/span/div[2]/table/tbody/tr[2]/td[4]')\n",
    "for i in term_tags[0:18]\n",
    "tt=i.text\n",
    "term.append        \n",
    "\n",
    "remark_tags=driver.find_elements(By.XPATH,'/html/body/div[1]/div[2]/div/div[2]/div/div[1]/div/div/div/div[4]/span/div[2]/table/tbody/tr[2]/td[5]/p')\n",
    "for i in remark_tags[0:18]\n",
    "rt=i.text\n",
    "remarks.append"
   ]
  },
  {
   "cell_type": "code",
   "execution_count": null,
   "id": "0a1d4d67",
   "metadata": {},
   "outputs": [],
   "source": [
    "Answer_10"
   ]
  },
  {
   "cell_type": "code",
   "execution_count": 127,
   "id": "22c084fb",
   "metadata": {},
   "outputs": [],
   "source": [
    "driver=webdriver.Chrome(r\"C:\\Users\\hp\\Downloads\\chromedriver_win32\\chromedriver.exe\")"
   ]
  },
  {
   "cell_type": "code",
   "execution_count": 128,
   "id": "7d3b102c",
   "metadata": {},
   "outputs": [],
   "source": [
    "driver.get(\"https://www.motor1.com/\")"
   ]
  },
  {
   "cell_type": "code",
   "execution_count": 132,
   "id": "2c575993",
   "metadata": {},
   "outputs": [],
   "source": [
    "drop=driver.find_element(By.XPATH,'//div[@class=\"box-item-left\"]')\n",
    "drop.click()"
   ]
  },
  {
   "cell_type": "code",
   "execution_count": 137,
   "id": "624be84d",
   "metadata": {},
   "outputs": [],
   "source": [
    "feature=driver.find_element(By.XPATH,'/html/body/div[4]/div[1]/div[3]/ul/li[5]/a')\n",
    "feature.click()                         "
   ]
  },
  {
   "cell_type": "code",
   "execution_count": 138,
   "id": "e0303260",
   "metadata": {},
   "outputs": [],
   "source": [
    "cars=driver.find_element(By.XPATH,'/html/body/div[3]/div[9]/div/div[1]/div/div/div[1]/div/div[1]/h3/a')\n",
    "cars.click()"
   ]
  },
  {
   "cell_type": "code",
   "execution_count": 139,
   "id": "aeb68886",
   "metadata": {},
   "outputs": [],
   "source": [
    "name=[]\n",
    "price=[]"
   ]
  },
  {
   "cell_type": "code",
   "execution_count": 142,
   "id": "c2d1b205",
   "metadata": {},
   "outputs": [],
   "source": [
    "name_tags=driver.find_elements(By.XPATH,'//h3[@class=\"subheader\"]')\n",
    "for i in name_tags[0:50]:\n",
    "    nt=i.text\n",
    "    name.append(nt)                "
   ]
  },
  {
   "cell_type": "code",
   "execution_count": 153,
   "id": "d0f89b5e",
   "metadata": {},
   "outputs": [],
   "source": [
    "price_tags=driver.find_elements(By.XPATH,'/html/body/div[2]/div[7]/div[2]/div[1]/div[2]/div[1]/p[6]/strong')\n",
    "for i in price_tags[0:50]:\n",
    "    pt=i.text\n",
    "    price.append(pt)"
   ]
  },
  {
   "cell_type": "code",
   "execution_count": 154,
   "id": "85173760",
   "metadata": {},
   "outputs": [
    {
     "name": "stdout",
     "output_type": "stream",
     "text": [
      "50 2\n"
     ]
    }
   ],
   "source": [
    "print(len(name),len(price))"
   ]
  },
  {
   "cell_type": "code",
   "execution_count": 157,
   "id": "57669a7a",
   "metadata": {},
   "outputs": [
    {
     "data": {
      "text/html": [
       "<div>\n",
       "<style scoped>\n",
       "    .dataframe tbody tr th:only-of-type {\n",
       "        vertical-align: middle;\n",
       "    }\n",
       "\n",
       "    .dataframe tbody tr th {\n",
       "        vertical-align: top;\n",
       "    }\n",
       "\n",
       "    .dataframe thead th {\n",
       "        text-align: right;\n",
       "    }\n",
       "</style>\n",
       "<table border=\"1\" class=\"dataframe\">\n",
       "  <thead>\n",
       "    <tr style=\"text-align: right;\">\n",
       "      <th></th>\n",
       "      <th>Cars_Name</th>\n",
       "      <th>Price</th>\n",
       "    </tr>\n",
       "  </thead>\n",
       "  <tbody>\n",
       "    <tr>\n",
       "      <th>0</th>\n",
       "      <td>Drako GTE</td>\n",
       "      <td>Price: $1.2 Million</td>\n",
       "    </tr>\n",
       "    <tr>\n",
       "      <th>1</th>\n",
       "      <td>De Tomaso P72</td>\n",
       "      <td>Price: $1.3 Million</td>\n",
       "    </tr>\n",
       "  </tbody>\n",
       "</table>\n",
       "</div>"
      ],
      "text/plain": [
       "       Cars_Name                Price\n",
       "0      Drako GTE  Price: $1.2 Million\n",
       "1  De Tomaso P72  Price: $1.3 Million"
      ]
     },
     "execution_count": 157,
     "metadata": {},
     "output_type": "execute_result"
    }
   ],
   "source": [
    "df=pd.DataFrame({'Cars_Name':name[:2],'Price':price[:2]})\n",
    "df"
   ]
  },
  {
   "cell_type": "code",
   "execution_count": null,
   "id": "7c2b3e36",
   "metadata": {},
   "outputs": [],
   "source": []
  }
 ],
 "metadata": {
  "kernelspec": {
   "display_name": "Python 3 (ipykernel)",
   "language": "python",
   "name": "python3"
  },
  "language_info": {
   "codemirror_mode": {
    "name": "ipython",
    "version": 3
   },
   "file_extension": ".py",
   "mimetype": "text/x-python",
   "name": "python",
   "nbconvert_exporter": "python",
   "pygments_lexer": "ipython3",
   "version": "3.9.12"
  }
 },
 "nbformat": 4,
 "nbformat_minor": 5
}
